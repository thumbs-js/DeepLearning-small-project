{
  "nbformat": 4,
  "nbformat_minor": 0,
  "metadata": {
    "colab": {
      "provenance": [],
      "gpuType": "T4"
    },
    "kernelspec": {
      "name": "python3",
      "display_name": "Python 3"
    },
    "language_info": {
      "name": "python"
    },
    "accelerator": "GPU"
  },
  "cells": [
    {
      "cell_type": "markdown",
      "source": [
        "# 1. 파이토치(PyTorch)\n",
        "\n",
        "- 페이스북에서 토치(Torch)를 파이썬 버전으로 개발하여 2017년도에 공개 -> (파이썬(Py)) + (토치(Torch))\n",
        "- 유연하면서, 가속화된 계산 속도를 제공해줌."
      ],
      "metadata": {
        "id": "4Kivz2gJEMFH"
      }
    },
    {
      "cell_type": "markdown",
      "source": [
        "# 2. 파이토치의 구성요소\n",
        "\n",
        "- torch: 메인 네임스페이스, 텐서 등의 다양한 수학 함수가 포함\n",
        "- torch.autograd: 자동 미분 기능을 제공하는 라이브러리\n",
        "- torch.nn: 신경망 구축을 위한 데이터 구조나 레이어 등의 라이브러리\n",
        "- torch.multiprocessing: 병렬처리 기능을 제공하는 라이브러리\n",
        "- torch.optim: SGD(Stochastic Gradient Descent)를 중심으로 파라미터 최적화 알고리즘 제공\n",
        "- torch.utils: 데이터 조작 등 유틸리티 기능 제공\n",
        "- torch.onnx: ONNX(Open Neural Network Exchange), 서로 다른 프레임워크 간의 모델을 공유할 때 사용\n",
        "  - ex) 파이토치로 작업한 모델을 다른 프레임워크에 옮기고 싶을 때"
      ],
      "metadata": {
        "id": "APNXcX3QLvnh"
      }
    },
    {
      "cell_type": "markdown",
      "source": [
        "# 3. 텐서(Tensors)\n",
        "\n",
        "- 데이터 표현을 위한 기본 구조로 텐서(tensor)를 사용\n",
        "- 텐서는 다차원의 데이터를 담기 위한 컨테이너(container)로서 일반적으로 수치형 데이터를 저장\n",
        "- 넘파이(NumPy)의 ndarray(n차원 행렬구조)와 유사\n",
        "- GPU를 사용한 연산 가속 기능이 존재\n",
        "---\n",
        "- 0차원텐서: 스칼라\n",
        "- 1차원텐서: 벡터\n",
        "- 2차원텐서: 행렬 (n*n)\n",
        "- 3차원텐서: (n\\*n*n)"
      ],
      "metadata": {
        "id": "EjAXk4p-MnZi"
      }
    },
    {
      "cell_type": "code",
      "source": [
        "import torch\n",
        "\n",
        "torch.__version__"
      ],
      "metadata": {
        "colab": {
          "base_uri": "https://localhost:8080/",
          "height": 35
        },
        "id": "lLruZEafNwkB",
        "outputId": "5fd32c6a-7c08-4471-dc5a-d7701323d59e"
      },
      "execution_count": null,
      "outputs": [
        {
          "output_type": "execute_result",
          "data": {
            "text/plain": [
              "'2.0.1+cu118'"
            ],
            "application/vnd.google.colaboratory.intrinsic+json": {
              "type": "string"
            }
          },
          "metadata": {},
          "execution_count": 1
        }
      ]
    },
    {
      "cell_type": "code",
      "source": [
        "# 초기화되지 않은 랜덤의 텐서\n",
        "x = torch.empty(4, 2)\n",
        "print(x)\n",
        "\n",
        "print(\"===\"*15)\n",
        "\n",
        "# 랜덤으로 초기화된 텐서\n",
        "y = torch.rand(4, 2)\n",
        "print(y)\n",
        "\n",
        "print(\"===\"*15)\n",
        "\n",
        "# 사용자가 입력한 값으로 텐서\n",
        "z = torch.tensor([3,2.3])      # input_features = 3이 됨.(3열)\n",
        "print(z)\n",
        "\n",
        "print(\"===\"*15)\n",
        "\n",
        "# 2 * 4 크기, double 타입, 1로 채워진 텐서\n",
        "w = z.new_ones(2, 4, dtype = torch.double)\n",
        "print(w)\n",
        "\n",
        "# w와 같은 크기, float 타입, 무작위로 채워진 텐서\n",
        "w = torch.randn_like(w, dtype=torch.float)\n",
        "print(w)"
      ],
      "metadata": {
        "colab": {
          "base_uri": "https://localhost:8080/"
        },
        "id": "jXe6yFdaOmTs",
        "outputId": "74a0c6f8-5ad8-411d-b888-deddd63a2310"
      },
      "execution_count": null,
      "outputs": [
        {
          "output_type": "stream",
          "name": "stdout",
          "text": [
            "tensor([[ 4.1633e+20,  4.3115e-41],\n",
            "        [-8.0325e-07,  3.1595e-41],\n",
            "        [ 4.4842e-44,  0.0000e+00],\n",
            "        [ 8.9683e-44,  0.0000e+00]])\n",
            "=============================================\n",
            "tensor([[0.1993, 0.7255],\n",
            "        [0.0712, 0.4854],\n",
            "        [0.7563, 0.1579],\n",
            "        [0.4833, 0.7741]])\n",
            "=============================================\n",
            "tensor([3.0000, 2.3000])\n",
            "=============================================\n",
            "tensor([[1., 1., 1., 1.],\n",
            "        [1., 1., 1., 1.]], dtype=torch.float64)\n",
            "tensor([[-1.9268, -1.0811, -0.3383,  2.4245],\n",
            "        [ 0.6598,  0.0301,  0.3013,  1.3884]])\n"
          ]
        }
      ]
    },
    {
      "cell_type": "code",
      "source": [
        "a = torch.tensor([[1, 2], [3, 4]])             # tensor([[1,2],\n",
        "                                               #         [3,4]])\n",
        "print(a.type())                                # 유형\n",
        "print(a.dtype)                                 # dtype => 데이터 유형\n",
        "print(a.shape, a.size)                         # shape => 데이터 모양\n",
        "print(a.numel())                               # numel => 크기\n",
        "\n",
        "print(\"====\"*10)\n",
        "\n",
        "# 다른 dtype으로 캐스팅하는 방법\n",
        "print(a.short())                               # 데이터 타입을 숏형으로\n",
        "print(a.int())                                 # 데이터 타입을 정수형으로\n",
        "print(a.float())                               # 데이터 타입을 실수형으로"
      ],
      "metadata": {
        "colab": {
          "base_uri": "https://localhost:8080/"
        },
        "id": "tZxbSpY1PQkV",
        "outputId": "20133e6b-b79f-4a3c-d38b-96dc11d580ef"
      },
      "execution_count": null,
      "outputs": [
        {
          "output_type": "stream",
          "name": "stdout",
          "text": [
            "torch.LongTensor\n",
            "torch.int64\n",
            "torch.Size([2, 2]) <built-in method size of Tensor object at 0x783024137f60>\n",
            "4\n",
            "========================================\n",
            "tensor([[1, 2],\n",
            "        [3, 4]], dtype=torch.int16)\n",
            "tensor([[1, 2],\n",
            "        [3, 4]], dtype=torch.int32)\n",
            "tensor([[1., 2.],\n",
            "        [3., 4.]])\n"
          ]
        }
      ]
    },
    {
      "cell_type": "markdown",
      "source": [
        "- Cuda Tensor\n",
        "  - .to 메소드를 사용하여 텐서를 (Cpu, Gpu)로 변환가능"
      ],
      "metadata": {
        "id": "LPq01XxXRx-E"
      }
    },
    {
      "cell_type": "code",
      "source": [
        "x = torch.randn(1)\n",
        "print(x)\n",
        "print(x.item())     # 실제값\n",
        "print(x.dtype)\n",
        "\n",
        "print('====' * 10)\n",
        "\n",
        "# cuda가 가능하면 gpu로, 그렇지 않다면 cpu로\n",
        "device = torch.device('cuda' if torch.cuda.is_available() else 'cpu')\n",
        "print(device)\n",
        "\n",
        "print('====' * 10)\n",
        "\n",
        "y = torch.ones_like(x, device=device)\n",
        "print(y)\n",
        "\n",
        "print('====' * 10)\n",
        "\n",
        "x = x.to(device)\n",
        "print(x)\n",
        "\n",
        "print('====' * 10)\n",
        "\n",
        "z= x+y\n",
        "print(z)\n",
        "print(z.to('cpu'), torch.double)"
      ],
      "metadata": {
        "colab": {
          "base_uri": "https://localhost:8080/"
        },
        "id": "aZ6MEf6MV5lt",
        "outputId": "5805beca-2d95-4e7f-933a-6579adaa15a7"
      },
      "execution_count": null,
      "outputs": [
        {
          "output_type": "stream",
          "name": "stdout",
          "text": [
            "tensor([-0.0265])\n",
            "-0.026518050581216812\n",
            "torch.float32\n",
            "========================================\n",
            "cpu\n",
            "========================================\n",
            "tensor([1.])\n",
            "========================================\n",
            "tensor([-0.0265])\n",
            "========================================\n",
            "tensor([0.9735])\n",
            "tensor([0.9735]) torch.float64\n"
          ]
        }
      ]
    },
    {
      "cell_type": "markdown",
      "source": [
        "## 3-1. 다차원 텐서 표현"
      ],
      "metadata": {
        "id": "_bLinEtZV7iJ"
      }
    },
    {
      "cell_type": "markdown",
      "source": [
        "- 0D Tensor(Scalar)"
      ],
      "metadata": {
        "id": "6z-TYDzsXEPt"
      }
    },
    {
      "cell_type": "code",
      "source": [
        "t0 = torch.tensor(0)\n",
        "print(t0.ndim)\n",
        "print(t0.shape)\n",
        "print(t0)"
      ],
      "metadata": {
        "colab": {
          "base_uri": "https://localhost:8080/"
        },
        "id": "T3zHf32dXHU0",
        "outputId": "3778856d-4c5a-4ca4-b3b2-9d67d58489b8"
      },
      "execution_count": null,
      "outputs": [
        {
          "output_type": "stream",
          "name": "stdout",
          "text": [
            "0\n",
            "torch.Size([])\n",
            "tensor(0)\n"
          ]
        }
      ]
    },
    {
      "cell_type": "markdown",
      "source": [
        "- 1D Tensor(Vector)\n",
        "  - 값들을 저장한 리스트와 유사한 텐서\n",
        "  - 하나의 축이 존재"
      ],
      "metadata": {
        "id": "syzUgKACXLLK"
      }
    },
    {
      "cell_type": "code",
      "source": [
        "t1 = torch.tensor([1,2,3])\n",
        "print(t1.ndim)\n",
        "print(t1.shape)\n",
        "print(t1)"
      ],
      "metadata": {
        "id": "guhFah5JXRns",
        "colab": {
          "base_uri": "https://localhost:8080/"
        },
        "outputId": "010c1acb-f222-4dc8-aaca-fbf6b34ba1bb"
      },
      "execution_count": null,
      "outputs": [
        {
          "output_type": "stream",
          "name": "stdout",
          "text": [
            "1\n",
            "torch.Size([3])\n",
            "tensor([1, 2, 3])\n"
          ]
        }
      ]
    },
    {
      "cell_type": "markdown",
      "source": [
        "- 2D Tensor(Matrix)\n",
        "  - 행렬과 같은 모양으로 두개의 축이 존재\n",
        "  - 일반적인 수치, 통계 데이터셋이 해당\n",
        "  - 주로 샘플(samples)과 특성(features)을 가진 구조"
      ],
      "metadata": {
        "id": "k4_wdA0rXWCq"
      }
    },
    {
      "cell_type": "code",
      "source": [
        "t2 = torch.tensor([[1,2,3],\n",
        "                   [4,5,6],\n",
        "                   [7,8,9]])\n",
        "\n",
        "print(t2.ndim)\n",
        "print(t2.shape)\n",
        "print(t2)"
      ],
      "metadata": {
        "colab": {
          "base_uri": "https://localhost:8080/"
        },
        "id": "_MRI1S3nXixf",
        "outputId": "679a1323-8c68-4f1e-e597-d0c7d37ad516"
      },
      "execution_count": null,
      "outputs": [
        {
          "output_type": "stream",
          "name": "stdout",
          "text": [
            "2\n",
            "torch.Size([3, 3])\n",
            "tensor([[1, 2, 3],\n",
            "        [4, 5, 6],\n",
            "        [7, 8, 9]])\n"
          ]
        }
      ]
    },
    {
      "cell_type": "markdown",
      "source": [
        "- 3D Tensor\n",
        "  - 큐브(cube)와 같은 모양으로 3개의 축이 존재\n",
        "  - 데이터가 연속된 시퀀스 데이터거나 시간 축이 포함된 시계열 데이터에 해당\n",
        "  - 주식 가격 데이터셋 or 시간에 따른 질병 데이터\n",
        "  - 주로 샘플(samples), 타임스탭(timesteps), 특성(features)을 가진 구조"
      ],
      "metadata": {
        "id": "t-J3z_8VXtDp"
      }
    },
    {
      "cell_type": "code",
      "source": [
        "t3 = torch.tensor([[[1,2,3],\n",
        "                   [4,5,6]],\n",
        "                   [[7,8,9],\n",
        "                   [10,11,12]]])   #  2면 2행 3열\n",
        "\n",
        "print(t3.dim)\n",
        "print(t3.shape)\n",
        "print(t3)"
      ],
      "metadata": {
        "colab": {
          "base_uri": "https://localhost:8080/"
        },
        "id": "6Hn6fxDzYFBI",
        "outputId": "de889d34-615a-4d84-860f-82d4061228db"
      },
      "execution_count": null,
      "outputs": [
        {
          "output_type": "stream",
          "name": "stdout",
          "text": [
            "<built-in method dim of Tensor object at 0x782f82cb02c0>\n",
            "torch.Size([2, 2, 3])\n",
            "tensor([[[ 1,  2,  3],\n",
            "         [ 4,  5,  6]],\n",
            "\n",
            "        [[ 7,  8,  9],\n",
            "         [10, 11, 12]]])\n"
          ]
        }
      ]
    },
    {
      "cell_type": "markdown",
      "source": [
        "- 4D Tensor\n",
        "  - 4개의 축이 존재\n",
        "  - 컬러 이미지 데이터가 대표 사례(흑백 이미지 데이터는 채널이 없기 때문에 3D Tensor로 가능)\n",
        "  - 주로 샘플(samples), 높이(height), 너비(width), 컬러 채널(channel)을 가진 구조로 사용"
      ],
      "metadata": {
        "id": "iHW5oUjqX9wa"
      }
    },
    {
      "cell_type": "markdown",
      "source": [
        "- 5D Tensor\n",
        "  - 5개의 축이 존재\n",
        "  - 샘플(samples), 프레임(frames), 높이(height), 너비(width), 컬러 채널(channel)\n",
        "  - 비디오 데이터"
      ],
      "metadata": {
        "id": "9WQbDgE6ZM8A"
      }
    },
    {
      "cell_type": "markdown",
      "source": [
        "## 3-2. Tensor의 연산\n",
        "- 텐서에 대한 수학 연산, 삼각함수, 비트 연산, 비교 연산, 집계 등을 제공"
      ],
      "metadata": {
        "id": "sHz3TuOBeUn-"
      }
    },
    {
      "cell_type": "code",
      "source": [
        "import math\n",
        "\n",
        "a = torch.randn(1, 2) * 2 - 1\n",
        "print(a)\n",
        "print(torch.abs(a))\n",
        "print(torch.ceil(a))             # 올림\n",
        "print(torch.floor(a))            # 내림\n",
        "print(torch.clamp(a, -0.5, 0.5)) # -0.5 ~ 0.5 사이에 값이 오도록"
      ],
      "metadata": {
        "colab": {
          "base_uri": "https://localhost:8080/"
        },
        "id": "GmBu35hHebzK",
        "outputId": "756020b3-de57-4f4e-dc33-d007a25c7af2"
      },
      "execution_count": null,
      "outputs": [
        {
          "output_type": "stream",
          "name": "stdout",
          "text": [
            "tensor([[ 0.6628, -0.1108]])\n",
            "tensor([[0.6628, 0.1108]])\n",
            "tensor([[1., -0.]])\n",
            "tensor([[ 0., -1.]])\n",
            "tensor([[ 0.5000, -0.1108]])\n"
          ]
        }
      ]
    },
    {
      "cell_type": "code",
      "source": [
        "# 집계함수이기 때문에 값이 1개로 나옴.\n",
        "print(torch.min(a))\n",
        "print(torch.max(a))\n",
        "print(torch.mean(a))\n",
        "print(torch.std(a))\n",
        "print(torch.prod(a))"
      ],
      "metadata": {
        "colab": {
          "base_uri": "https://localhost:8080/"
        },
        "id": "G5m-dS-TfWX5",
        "outputId": "64ab008f-b28f-4e06-9c6f-ce7466fbf9ca"
      },
      "execution_count": null,
      "outputs": [
        {
          "output_type": "stream",
          "name": "stdout",
          "text": [
            "tensor(-0.1108)\n",
            "tensor(0.6628)\n",
            "tensor(0.2760)\n",
            "tensor(0.5470)\n",
            "tensor(-0.0735)\n"
          ]
        }
      ]
    },
    {
      "cell_type": "markdown",
      "source": [
        "- max와 min은 dim 인자를 줄 경우 argmax와 argmin도 함께 리턴\n",
        "  - argmax: 최대값의 인덱스(위치)\n",
        "  - argmin: 최소값의 인덱스(위치)"
      ],
      "metadata": {
        "id": "BlHAjFCnf7zF"
      }
    },
    {
      "cell_type": "code",
      "source": [
        "b = torch.rand(2,2)\n",
        "print(b)\n",
        "print(\"=======================\")\n",
        "print(b.max(dim=0))                 # 열 기준으로 비교하여 행의 인덱스를 알려줌.\n",
        "print(\"=======================\")\n",
        "print(b.max(dim=1))                 # 행 기준으로 비교하여 열의 인덱스를 알려줌."
      ],
      "metadata": {
        "colab": {
          "base_uri": "https://localhost:8080/"
        },
        "id": "pQt-o8G8gLSJ",
        "outputId": "b118afda-7791-4f29-e759-dd8d5b358b53"
      },
      "execution_count": null,
      "outputs": [
        {
          "output_type": "stream",
          "name": "stdout",
          "text": [
            "tensor([[0.6813, 0.4621],\n",
            "        [0.2933, 0.0881]])\n",
            "=======================\n",
            "torch.return_types.max(\n",
            "values=tensor([0.6813, 0.4621]),\n",
            "indices=tensor([0, 0]))\n",
            "=======================\n",
            "torch.return_types.max(\n",
            "values=tensor([0.6813, 0.2933]),\n",
            "indices=tensor([0, 0]))\n"
          ]
        }
      ]
    },
    {
      "cell_type": "code",
      "source": [
        "print(b)\n",
        "print(\"=======================\")\n",
        "print(b.min(dim=0))                 # 열 기준으로 비교하여 행의 인덱스를 알려줌.\n",
        "print(\"=======================\")\n",
        "print(b.min(dim=1))                 # 행 기준으로 비교하여 열의 인덱스를 알려줌"
      ],
      "metadata": {
        "colab": {
          "base_uri": "https://localhost:8080/"
        },
        "id": "DKRX56pYgVmX",
        "outputId": "ceebcbcf-1415-4860-d8b8-8b49f15f932a"
      },
      "execution_count": null,
      "outputs": [
        {
          "output_type": "stream",
          "name": "stdout",
          "text": [
            "tensor([[0.6813, 0.4621],\n",
            "        [0.2933, 0.0881]])\n",
            "=======================\n",
            "torch.return_types.min(\n",
            "values=tensor([0.2933, 0.0881]),\n",
            "indices=tensor([1, 1]))\n",
            "=======================\n",
            "torch.return_types.min(\n",
            "values=tensor([0.4621, 0.0881]),\n",
            "indices=tensor([1, 1]))\n"
          ]
        }
      ]
    },
    {
      "cell_type": "markdown",
      "source": [
        "- torch.add : 덧셈\n",
        "- torch.sub : 뺄셈\n",
        "- torch.mul : 곱셉\n",
        "- torch.div : 나눗셈\n",
        "- torch.mm : 내적(dot product) = mat multiply"
      ],
      "metadata": {
        "id": "B7xPs-dikHbP"
      }
    },
    {
      "cell_type": "code",
      "source": [
        "x= torch.rand(2,2)\n",
        "print(x)\n",
        "print(\"=======================\")\n",
        "y= torch.rand(2,2)\n",
        "print(y)\n",
        "print(\"=======================\")\n",
        "print(\"덧셈\")\n",
        "print(torch.add(x,y))             # print(x+y)\n",
        "print(\"=======================\")\n",
        "print(\"곱셈\")\n",
        "print(torch.mul(x,y))\n",
        "print(\"=======================\")\n",
        "print(\"내적\")\n",
        "print(torch.mm(x,y))              # print(torch.matmul(x,y))"
      ],
      "metadata": {
        "colab": {
          "base_uri": "https://localhost:8080/"
        },
        "id": "IcGeBVcZjVR6",
        "outputId": "2d2a4de6-ef12-4bf9-dcfd-5d650dc6e976"
      },
      "execution_count": null,
      "outputs": [
        {
          "output_type": "stream",
          "name": "stdout",
          "text": [
            "tensor([[0.2280, 0.7460],\n",
            "        [0.8272, 0.1365]])\n",
            "=======================\n",
            "tensor([[0.6808, 0.9963],\n",
            "        [0.8307, 0.6779]])\n",
            "=======================\n",
            "덧셈\n",
            "tensor([[0.9087, 1.7423],\n",
            "        [1.6578, 0.8144]])\n",
            "=======================\n",
            "곱셈\n",
            "tensor([[0.1552, 0.7433],\n",
            "        [0.6871, 0.0925]])\n",
            "=======================\n",
            "내적\n",
            "tensor([[0.7749, 0.7329],\n",
            "        [0.6765, 0.9166]])\n"
          ]
        }
      ]
    },
    {
      "cell_type": "markdown",
      "source": [
        "- 연산의 inplace 방식: 연산 뒤에 _을 붙이면 됨.\n",
        "  - x가 존재하고\n",
        "  - y가 존재할 때,\n",
        "  - y.add(x)를 해주면 y에 x가 더해진 결과가 덮어써짐."
      ],
      "metadata": {
        "id": "yq_LiQJnjyNJ"
      }
    },
    {
      "cell_type": "markdown",
      "source": [
        "## 3-3. 텐서의 조작\n",
        "- 인덱싱(Indexing): 인덱싱 가능"
      ],
      "metadata": {
        "id": "vI-VZImNkefj"
      }
    },
    {
      "cell_type": "code",
      "source": [
        "x = torch.Tensor([[1,2,3],\n",
        "                  [4,5,6]])\n",
        "\n",
        "print(x[0,0])\n",
        "print(x[1,0])\n",
        "print(x[0,2])\n",
        "\n",
        "print(x[:, 1])    # 슬라이싱 -> 행은 모두, 1열만"
      ],
      "metadata": {
        "colab": {
          "base_uri": "https://localhost:8080/"
        },
        "id": "F9S7YZCQmtnG",
        "outputId": "144082b2-3de8-4fbb-c149-e1d6ad79cf7a"
      },
      "execution_count": null,
      "outputs": [
        {
          "output_type": "stream",
          "name": "stdout",
          "text": [
            "tensor(1.)\n",
            "tensor(4.)\n",
            "tensor(3.)\n",
            "tensor([2., 5.])\n"
          ]
        }
      ]
    },
    {
      "cell_type": "markdown",
      "source": [
        "- view : 텐서의 크기(size)나 모양(shape)을 변경\n",
        "  - 변경 전과 후에 텐서안의 원소 개수는 같아야 함"
      ],
      "metadata": {
        "id": "1Vp1hXQlm58D"
      }
    },
    {
      "cell_type": "code",
      "source": [
        "x = torch.randn(4,5)\n",
        "print(x)"
      ],
      "metadata": {
        "colab": {
          "base_uri": "https://localhost:8080/"
        },
        "id": "ah0QOvpvnj9p",
        "outputId": "07317606-7648-4a91-8303-edb3e3bfd484"
      },
      "execution_count": null,
      "outputs": [
        {
          "output_type": "stream",
          "name": "stdout",
          "text": [
            "tensor([[ 0.3378,  0.4487,  0.9173,  1.0741,  0.2725],\n",
            "        [-1.0075, -1.1540,  0.0255,  0.8781, -0.2178],\n",
            "        [-0.7803,  1.0273, -0.5158,  0.7295,  0.8263],\n",
            "        [ 1.6056,  0.7382,  1.9809,  1.1890,  1.2650]])\n"
          ]
        }
      ]
    },
    {
      "cell_type": "code",
      "source": [
        "y = x.view(20)      # 4행 5열의 shape을 1행 20열로\n",
        "y"
      ],
      "metadata": {
        "colab": {
          "base_uri": "https://localhost:8080/"
        },
        "id": "_N9Qweoynvjd",
        "outputId": "3211f1dc-0f80-4324-c098-25856101c84f"
      },
      "execution_count": null,
      "outputs": [
        {
          "output_type": "execute_result",
          "data": {
            "text/plain": [
              "tensor([ 0.3378,  0.4487,  0.9173,  1.0741,  0.2725, -1.0075, -1.1540,  0.0255,\n",
              "         0.8781, -0.2178, -0.7803,  1.0273, -0.5158,  0.7295,  0.8263,  1.6056,\n",
              "         0.7382,  1.9809,  1.1890,  1.2650])"
            ]
          },
          "metadata": {},
          "execution_count": 61
        }
      ]
    },
    {
      "cell_type": "code",
      "source": [
        "z = x.view(5, -1)    # 행은 5개로 정해주고, 나머지는 자동으로\n",
        "z"
      ],
      "metadata": {
        "colab": {
          "base_uri": "https://localhost:8080/"
        },
        "id": "Qdoyy5vGnxmM",
        "outputId": "bb5ac73a-11f1-4686-f720-968d6e92e841"
      },
      "execution_count": null,
      "outputs": [
        {
          "output_type": "execute_result",
          "data": {
            "text/plain": [
              "tensor([[ 0.3378,  0.4487,  0.9173,  1.0741],\n",
              "        [ 0.2725, -1.0075, -1.1540,  0.0255],\n",
              "        [ 0.8781, -0.2178, -0.7803,  1.0273],\n",
              "        [-0.5158,  0.7295,  0.8263,  1.6056],\n",
              "        [ 0.7382,  1.9809,  1.1890,  1.2650]])"
            ]
          },
          "metadata": {},
          "execution_count": 63
        }
      ]
    },
    {
      "cell_type": "markdown",
      "source": [
        "- squeeze(차원 축소) 와 unsqueeze(차원 증가)"
      ],
      "metadata": {
        "id": "2WC9sjHKn-Dz"
      }
    },
    {
      "cell_type": "code",
      "source": [
        "tensor = torch.rand(1, 3, 3)\n",
        "print(tensor)\n",
        "print(tensor.shape)"
      ],
      "metadata": {
        "colab": {
          "base_uri": "https://localhost:8080/"
        },
        "id": "OpP98HtqoWUZ",
        "outputId": "1b867fb6-11d4-4711-9e54-feea97c57b23"
      },
      "execution_count": null,
      "outputs": [
        {
          "output_type": "stream",
          "name": "stdout",
          "text": [
            "tensor([[[0.8872, 0.1921, 0.3554],\n",
            "         [0.1177, 0.3584, 0.7984],\n",
            "         [0.6957, 0.7266, 0.5984]]])\n",
            "torch.Size([1, 3, 3])\n"
          ]
        }
      ]
    },
    {
      "cell_type": "code",
      "source": [
        "squ = tensor.squeeze()              # squeeze를 통해 [1,3,3]의 3차원이 [3,3]의 2차원으로 축소됨\n",
        "print(squ)\n",
        "print(squ.shape)\n",
        "\n",
        "print(\"===\" * 13)\n",
        "\n",
        "unsqu = tensor.unsqueeze(dim=0)     # dim을 설정해주어야 함.\n",
        "print(unsqu)\n",
        "print(unsqu.shape)                  # [1,3,3]에서 dim=0으로 설정해주었으니 1,1,3,3이 됨.\n",
        "\n",
        "print(\"===\" * 13)\n",
        "\n",
        "unsqu2 = tensor.unsqueeze(dim=2)    # dim=2로 설정해주었음 => 2번째 자리에 1차원을 늘리겠다는 뜻\n",
        "print(unsqu2)\n",
        "print(unsqu2.shape)                 # [1,3,3]에서 dim=2이기 때문에 [1,3,1,3] 이 되는 것."
      ],
      "metadata": {
        "colab": {
          "base_uri": "https://localhost:8080/"
        },
        "id": "0awmAnBFogMw",
        "outputId": "906dc0be-f304-498e-e879-79e6328af7b2"
      },
      "execution_count": null,
      "outputs": [
        {
          "output_type": "stream",
          "name": "stdout",
          "text": [
            "tensor([[0.8872, 0.1921, 0.3554],\n",
            "        [0.1177, 0.3584, 0.7984],\n",
            "        [0.6957, 0.7266, 0.5984]])\n",
            "torch.Size([3, 3])\n",
            "=======================================\n",
            "tensor([[[[0.8872, 0.1921, 0.3554],\n",
            "          [0.1177, 0.3584, 0.7984],\n",
            "          [0.6957, 0.7266, 0.5984]]]])\n",
            "torch.Size([1, 1, 3, 3])\n",
            "tensor([[[[0.8872, 0.1921, 0.3554]],\n",
            "\n",
            "         [[0.1177, 0.3584, 0.7984]],\n",
            "\n",
            "         [[0.6957, 0.7266, 0.5984]]]])\n",
            "torch.Size([1, 3, 1, 3])\n"
          ]
        }
      ]
    },
    {
      "cell_type": "markdown",
      "source": [
        "- stack: 텐서간 결합"
      ],
      "metadata": {
        "id": "06J67oXeowh7"
      }
    },
    {
      "cell_type": "code",
      "source": [
        "x = torch.FloatTensor([1,4])\n",
        "y = torch.FloatTensor([2,5])\n",
        "z = torch.FloatTensor([3,6])\n",
        "\n",
        "print(torch.stack([x,y,z]))"
      ],
      "metadata": {
        "colab": {
          "base_uri": "https://localhost:8080/"
        },
        "id": "hTvCL1F2pzRe",
        "outputId": "03f458b7-f255-463b-e1aa-f828bbed7114"
      },
      "execution_count": null,
      "outputs": [
        {
          "output_type": "stream",
          "name": "stdout",
          "text": [
            "tensor([[1., 4.],\n",
            "        [2., 5.],\n",
            "        [3., 6.]])\n"
          ]
        }
      ]
    },
    {
      "cell_type": "markdown",
      "source": [
        "- cat: 텐서를 결합(concatenate)\n",
        "  - stack과 유사하지만, 쌓을 dim이 존재\n",
        "  - 해당 차원을 늘려준 후 결합"
      ],
      "metadata": {
        "id": "TOS0yUPBp7tL"
      }
    },
    {
      "cell_type": "code",
      "source": [
        "a = torch.randn(1,3,3)\n",
        "b = torch.randn(1,3,3)\n",
        "\n",
        "c = torch.cat((a,b), dim=0)  # dim=0이기 때문에 0번째 인덱스인 1면의 차원을 기준으로 결합\n",
        "print(c)\n",
        "print(c.shape)\n",
        "\n",
        "print(\"===\"*15)\n",
        "\n",
        "d = torch.cat((a,b), dim=1)  # dim=1이기 때문에 1번째 인덱스인 행의 차원을 기준으로 결합\n",
        "print(d)\n",
        "print(d.shape)"
      ],
      "metadata": {
        "colab": {
          "base_uri": "https://localhost:8080/"
        },
        "id": "EIe6c6rUqjTU",
        "outputId": "d892a5a4-9e91-49c8-92d6-d9e6096d6d24"
      },
      "execution_count": null,
      "outputs": [
        {
          "output_type": "stream",
          "name": "stdout",
          "text": [
            "tensor([[[-1.0208, -0.0064,  0.2349],\n",
            "         [ 1.1597,  0.2863, -0.6839],\n",
            "         [-2.0550, -1.2960, -0.9232]],\n",
            "\n",
            "        [[ 0.7789, -0.2467,  1.5145],\n",
            "         [ 0.0743, -0.2150,  0.8504],\n",
            "         [ 0.7049,  1.5202, -0.6077]]])\n",
            "torch.Size([2, 3, 3])\n",
            "=============================================\n",
            "tensor([[[-1.0208, -0.0064,  0.2349],\n",
            "         [ 1.1597,  0.2863, -0.6839],\n",
            "         [-2.0550, -1.2960, -0.9232],\n",
            "         [ 0.7789, -0.2467,  1.5145],\n",
            "         [ 0.0743, -0.2150,  0.8504],\n",
            "         [ 0.7049,  1.5202, -0.6077]]])\n",
            "torch.Size([1, 6, 3])\n"
          ]
        }
      ]
    },
    {
      "cell_type": "markdown",
      "source": [
        "- chunk: 텐서를 여러개로 나눌 때 사용\n",
        "  - x / y = n 이라고 할 때, y를 설정해주는 것"
      ],
      "metadata": {
        "id": "dqIQHzEYquSA"
      }
    },
    {
      "cell_type": "code",
      "source": [
        "tensor1 = torch.rand(3,6)\n",
        "print(tensor1)\n",
        "\n",
        "t1, t2, t3 = torch.chunk(tensor1, 3, dim=1)   # 3*6 텐서를 dim=1(열)로 나눴으니 6/3 = 2 열이 되는 것.\n",
        "print(t1)\n",
        "print(t2)\n",
        "print(t3)\n",
        "\n",
        "print(\"----\"*10)\n",
        "t4, t5, t6 = torch.chunk(tensor1, 3, dim=0)   # 3*6 텐서를 dim=0(행)로 나눴으니, 3/3 => 1행이 되는 것\n",
        "print(t4)"
      ],
      "metadata": {
        "colab": {
          "base_uri": "https://localhost:8080/"
        },
        "id": "SVy4f_52eADP",
        "outputId": "120ccc22-a3f4-41e8-97de-6c4475f64609"
      },
      "execution_count": null,
      "outputs": [
        {
          "output_type": "stream",
          "name": "stdout",
          "text": [
            "tensor([[0.9613, 0.5955, 0.3886, 0.7933, 0.7870, 0.2201],\n",
            "        [0.7495, 0.5874, 0.5414, 0.7917, 0.1638, 0.9904],\n",
            "        [0.3733, 0.6659, 0.1906, 0.8400, 0.7265, 0.0680]])\n",
            "tensor([[0.9613, 0.5955],\n",
            "        [0.7495, 0.5874],\n",
            "        [0.3733, 0.6659]])\n",
            "tensor([[0.3886, 0.7933],\n",
            "        [0.5414, 0.7917],\n",
            "        [0.1906, 0.8400]])\n",
            "tensor([[0.7870, 0.2201],\n",
            "        [0.1638, 0.9904],\n",
            "        [0.7265, 0.0680]])\n",
            "----------------------------------------\n",
            "tensor([[0.9613, 0.5955, 0.3886, 0.7933, 0.7870, 0.2201]])\n"
          ]
        }
      ]
    },
    {
      "cell_type": "markdown",
      "source": [
        "- split: chunk와 마찬가지로 텐서를 나눌 때 사용됨.\n",
        "  - 하지만, chunk와 다르게 분할된 텐서의 크기를 몇으로 설정해줄지를 묻는다.\n",
        "  - x / y = n 이라고 할 때 n을 설정해주는 것"
      ],
      "metadata": {
        "id": "Uzo_QqeaeJ6d"
      }
    },
    {
      "cell_type": "code",
      "source": [
        "tensor2= torch.rand(3,6)\n",
        "t1, t2 = torch.split(tensor2, 3, dim=1)      # dim=1 -> 분할된 텐서의 열이 3이 되도록 분할해줘\n",
        "\n",
        "print(tensor2)\n",
        "print(t1)\n",
        "print(t2)"
      ],
      "metadata": {
        "colab": {
          "base_uri": "https://localhost:8080/"
        },
        "id": "rJ-NC-2ffZtn",
        "outputId": "9d6ca4b9-c704-4d7c-b5ab-3e79060b94be"
      },
      "execution_count": null,
      "outputs": [
        {
          "output_type": "stream",
          "name": "stdout",
          "text": [
            "tensor([[0.2813, 0.2919, 0.2428, 0.5973, 0.8971, 0.0058],\n",
            "        [0.5199, 0.3783, 0.7597, 0.9985, 0.9598, 0.3779],\n",
            "        [0.8688, 0.4717, 0.6990, 0.1866, 0.2744, 0.1081]])\n",
            "tensor([[0.2813, 0.2919, 0.2428],\n",
            "        [0.5199, 0.3783, 0.7597],\n",
            "        [0.8688, 0.4717, 0.6990]])\n",
            "tensor([[0.5973, 0.8971, 0.0058],\n",
            "        [0.9985, 0.9598, 0.3779],\n",
            "        [0.1866, 0.2744, 0.1081]])\n"
          ]
        }
      ]
    },
    {
      "cell_type": "markdown",
      "source": [
        "- tensor <-> numpy\n",
        "\n",
        "  - Torch Tensor(텐서)를 Numpy array(배열)로 변환 가능\n",
        "    - numpy()\n",
        "  - Tensor가 CPU상에 있다면 Numpy 배열은 메모리 공간을 공유하므로 하나가 변하면 자동으로 변함"
      ],
      "metadata": {
        "id": "MXs-xkDhgu_F"
      }
    },
    {
      "cell_type": "code",
      "source": [
        "a = torch.ones(7)\n",
        "print(a)"
      ],
      "metadata": {
        "colab": {
          "base_uri": "https://localhost:8080/"
        },
        "id": "VbC2UrZ-hTQE",
        "outputId": "f1e6b050-edc3-42cc-a8a6-f8e77af81504"
      },
      "execution_count": null,
      "outputs": [
        {
          "output_type": "stream",
          "name": "stdout",
          "text": [
            "tensor([1., 1., 1., 1., 1., 1., 1.])\n"
          ]
        }
      ]
    },
    {
      "cell_type": "code",
      "source": [
        "b = a.numpy()\n",
        "print(b)"
      ],
      "metadata": {
        "colab": {
          "base_uri": "https://localhost:8080/"
        },
        "id": "7d0g4p_rhYBB",
        "outputId": "757a557f-4d8e-479a-a539-7516bb501088"
      },
      "execution_count": null,
      "outputs": [
        {
          "output_type": "stream",
          "name": "stdout",
          "text": [
            "[1. 1. 1. 1. 1. 1. 1.]\n"
          ]
        }
      ]
    },
    {
      "cell_type": "code",
      "source": [
        "a.add_(1)\n",
        "print(a)\n",
        "print(b)   # a에 반영된 변화가, b에도 반영되어 있음."
      ],
      "metadata": {
        "colab": {
          "base_uri": "https://localhost:8080/"
        },
        "id": "y5N6Xw1hhcUM",
        "outputId": "1e3904a7-2e92-409d-c4cb-8d96aca496fa"
      },
      "execution_count": null,
      "outputs": [
        {
          "output_type": "stream",
          "name": "stdout",
          "text": [
            "tensor([3., 3., 3., 3., 3., 3., 3.])\n",
            "[3. 3. 3. 3. 3. 3. 3.]\n"
          ]
        }
      ]
    },
    {
      "cell_type": "code",
      "source": [
        "import numpy as np\n",
        "\n",
        "a = np.ones(7)\n",
        "b = torch.from_numpy(a)\n",
        "\n",
        "np.add(a, 1, out=a)     # 덮어쓰기\n",
        "print(a)\n",
        "print(b)                # torch의 tensor와 numpy가 같은 메모리를 공유하고 있다는 사실을 알 수 있음."
      ],
      "metadata": {
        "colab": {
          "base_uri": "https://localhost:8080/"
        },
        "id": "jdhQ85_jheaI",
        "outputId": "2ca3f435-eef3-4a03-fc9b-d778014b76bb"
      },
      "execution_count": null,
      "outputs": [
        {
          "output_type": "stream",
          "name": "stdout",
          "text": [
            "[2. 2. 2. 2. 2. 2. 2.]\n",
            "tensor([2., 2., 2., 2., 2., 2., 2.], dtype=torch.float64)\n"
          ]
        }
      ]
    },
    {
      "cell_type": "markdown",
      "source": [
        "# 4. Autograd(자동 미분)\n",
        "\n",
        "- torch.autograd 패키지는 Tensor의 모든 연산에 대해 **자동 미분**을 제공해줌.\n",
        "\n",
        "- backpropagation을 위해 미분값을 자동으로 계산 하는 것임."
      ],
      "metadata": {
        "id": "p3Esn8I6hvuK"
      }
    },
    {
      "cell_type": "markdown",
      "source": [
        "requires_grad 속성을 True로 설정하면(디폴트=False), 해당 텐서에서 이루어지는 모든 연산들을 추적하기 시작.\n",
        "\n",
        "기록을 추적하는 것을 중단하게 하려면, .detach()를 호출하여 연산기록으로부터 분리\n",
        "\n",
        "grad_fn: 미분값을 계산함 함수에 대한 정보 저장(어떤 함수에 대하여 backprop했는지)"
      ],
      "metadata": {
        "id": "FnTwcJJdiIF2"
      }
    },
    {
      "cell_type": "code",
      "source": [
        "a = torch.rand(3,3)\n",
        "print(a)\n",
        "\n",
        "a = a * 3\n",
        "print(a)\n",
        "\n",
        "print(a.requires_grad)       # 디폴트는 False이기 때문에 연산들이 추적되지 않음."
      ],
      "metadata": {
        "colab": {
          "base_uri": "https://localhost:8080/"
        },
        "id": "o6oFQQRniwbe",
        "outputId": "4917ad29-a65e-4d98-fde0-f6cbf4dc51a1"
      },
      "execution_count": null,
      "outputs": [
        {
          "output_type": "stream",
          "name": "stdout",
          "text": [
            "tensor([[0.3592, 0.7417, 0.0907],\n",
            "        [0.5454, 0.2880, 0.0607],\n",
            "        [0.9753, 0.3152, 0.7715]])\n",
            "tensor([[1.0775, 2.2250, 0.2722],\n",
            "        [1.6362, 0.8641, 0.1820],\n",
            "        [2.9259, 0.9457, 2.3145]])\n",
            "False\n"
          ]
        }
      ]
    },
    {
      "cell_type": "code",
      "source": [
        "a.requires_grad_(True)       # requires_grad = True로 설정해주면\n",
        "print(a)\n",
        "\n",
        "b = (a*a).sum()\n",
        "print(b.grad_fn)             # Sum연산이 진행되었다는 사실을 기록하고 있음."
      ],
      "metadata": {
        "colab": {
          "base_uri": "https://localhost:8080/"
        },
        "id": "tenPyLs1msRs",
        "outputId": "8c3a72b3-9c24-4b7f-915b-fcdcdec4ad0b"
      },
      "execution_count": null,
      "outputs": [
        {
          "output_type": "stream",
          "name": "stdout",
          "text": [
            "tensor([[1.0775, 2.2250, 0.2722],\n",
            "        [1.6362, 0.8641, 0.1820],\n",
            "        [2.9259, 0.9457, 2.3145]], requires_grad=True)\n",
            "<SumBackward0 object at 0x782920891b70>\n"
          ]
        }
      ]
    },
    {
      "cell_type": "markdown",
      "source": [
        "기울기(Gradient)계산"
      ],
      "metadata": {
        "id": "88Ao1ITcnr_U"
      }
    },
    {
      "cell_type": "code",
      "source": [
        "x = torch.ones(3,3, requires_grad=True)  # 연산들이 추적됨.\n",
        "print(x)"
      ],
      "metadata": {
        "colab": {
          "base_uri": "https://localhost:8080/"
        },
        "id": "sS0uINufi1wa",
        "outputId": "bc48e176-3115-447e-bd4b-c790453867b8"
      },
      "execution_count": null,
      "outputs": [
        {
          "output_type": "stream",
          "name": "stdout",
          "text": [
            "tensor([[1., 1., 1.],\n",
            "        [1., 1., 1.],\n",
            "        [1., 1., 1.]], requires_grad=True)\n"
          ]
        }
      ]
    },
    {
      "cell_type": "code",
      "source": [
        "y = x + 5\n",
        "print(y)                   # + 연산이 기록됨."
      ],
      "metadata": {
        "colab": {
          "base_uri": "https://localhost:8080/"
        },
        "id": "MT3HhUasvmVs",
        "outputId": "13863b2f-9957-4fc2-a36a-eafef59b9dc1"
      },
      "execution_count": null,
      "outputs": [
        {
          "output_type": "stream",
          "name": "stdout",
          "text": [
            "tensor([[6., 6., 6.],\n",
            "        [6., 6., 6.],\n",
            "        [6., 6., 6.]], grad_fn=<AddBackward0>)\n"
          ]
        }
      ]
    },
    {
      "cell_type": "code",
      "source": [
        "z = y * y           # z = (x^2 + 10x + 25)\n",
        "out = z.mean()      # 집계함수 - 평균 연산이 기록되어 다 대 일로 전환\n",
        "print(z, out)"
      ],
      "metadata": {
        "colab": {
          "base_uri": "https://localhost:8080/"
        },
        "id": "VpphZvd1vsx7",
        "outputId": "769bb8c7-9de1-47db-82a1-2c095682fa31"
      },
      "execution_count": null,
      "outputs": [
        {
          "output_type": "stream",
          "name": "stdout",
          "text": [
            "tensor([[36., 36., 36.],\n",
            "        [36., 36., 36.],\n",
            "        [36., 36., 36.]], grad_fn=<MulBackward0>) tensor(36., grad_fn=<MeanBackward0>)\n"
          ]
        }
      ]
    },
    {
      "cell_type": "markdown",
      "source": [
        "계산이 완료된 후, .backward()를 호출하면 자동으로 역전파 계산해줌"
      ],
      "metadata": {
        "id": "I32R6bYEj71S"
      }
    },
    {
      "cell_type": "code",
      "source": [
        "print(out)\n",
        "out.backward()"
      ],
      "metadata": {
        "colab": {
          "base_uri": "https://localhost:8080/"
        },
        "id": "iflsJ1jGq8wz",
        "outputId": "d46a932a-8804-41b1-8f90-6543b00ed6aa"
      },
      "execution_count": null,
      "outputs": [
        {
          "output_type": "stream",
          "name": "stdout",
          "text": [
            "tensor(36., grad_fn=<MeanBackward0>)\n"
          ]
        }
      ]
    },
    {
      "cell_type": "markdown",
      "source": [
        "grad: 데이터가 거쳐온 layer에 대한 미분값을 저장해줌"
      ],
      "metadata": {
        "id": "3Yh53daBwEIO"
      }
    },
    {
      "cell_type": "code",
      "source": [
        "print(x)\n",
        "print(x.grad)"
      ],
      "metadata": {
        "colab": {
          "base_uri": "https://localhost:8080/"
        },
        "id": "5J0afumPwA2M",
        "outputId": "a8e75482-c119-4a49-d0e2-897e26e395e1"
      },
      "execution_count": null,
      "outputs": [
        {
          "output_type": "stream",
          "name": "stdout",
          "text": [
            "tensor([[1., 1., 1.],\n",
            "        [1., 1., 1.],\n",
            "        [1., 1., 1.]], requires_grad=True)\n",
            "tensor([[1.3333, 1.3333, 1.3333],\n",
            "        [1.3333, 1.3333, 1.3333],\n",
            "        [1.3333, 1.3333, 1.3333]])\n"
          ]
        }
      ]
    },
    {
      "cell_type": "code",
      "source": [
        "x = torch.rand(3, requires_grad= True)\n",
        "\n",
        "y = x * 2\n",
        "\n",
        "while y.data.norm() < 1000:\n",
        "  y = y * 2\n",
        "\n",
        "print(y)"
      ],
      "metadata": {
        "colab": {
          "base_uri": "https://localhost:8080/"
        },
        "id": "2w6740RKsbsf",
        "outputId": "bd77a672-9d68-445e-a68d-02ee6f90e8ba"
      },
      "execution_count": null,
      "outputs": [
        {
          "output_type": "stream",
          "name": "stdout",
          "text": [
            "tensor([1030.6167,  454.7723,  959.6075], grad_fn=<MulBackward0>)\n"
          ]
        }
      ]
    },
    {
      "cell_type": "code",
      "source": [
        "v = torch.tensor([0.1, 1.0, 0.0001], dtype=torch.float)\n",
        "y.backward(v)\n",
        "\n",
        "print(x.grad)"
      ],
      "metadata": {
        "colab": {
          "base_uri": "https://localhost:8080/"
        },
        "id": "muWTeVuZvJXP",
        "outputId": "fce10140-0009-4f3c-d4a0-0c2d7a99ddb8"
      },
      "execution_count": null,
      "outputs": [
        {
          "output_type": "stream",
          "name": "stdout",
          "text": [
            "tensor([2.0480e+02, 2.0480e+03, 2.0480e-01])\n"
          ]
        }
      ]
    },
    {
      "cell_type": "markdown",
      "source": [
        "※ with torch.no_grad()를 사용하여, 기울기를 업데이트 하지 않을 수 있음.\n",
        "  - 단, requires_grad= True로 설정되어, 모델을 평가(evaluate)할 때는 유용함."
      ],
      "metadata": {
        "id": "bKq6gC5XvVF8"
      }
    },
    {
      "cell_type": "markdown",
      "source": [
        "## 3-1. 자동 미분 흐름 예제\n",
        "- 계산 흐름: a -> b -> c -> out\n",
        "\n",
        "- ∂out/∂a = ? 를 구하고자 할 때\n",
        "\n",
        "- backward()를 통해 a <- b <- c <- out을 계산하여 ∂out/∂a이 a.grad에 채워짐"
      ],
      "metadata": {
        "id": "aSafVYd2gGYs"
      }
    },
    {
      "cell_type": "code",
      "source": [
        "a = torch.ones(2,2, requires_grad=True)\n",
        "\n",
        "print(a.data)\n",
        "print(a.grad)      # 연산된 것이 없기 때문에 none으로 뜸.\n",
        "print(a.grad_fn)\n",
        "\n",
        "print(\"===\"*10)\n",
        "\n",
        "b = a + 2\n",
        "print(b)\n",
        "\n",
        "print(\"===\"*10)\n",
        "\n",
        "c = b ** 2\n",
        "print(c)          # 제곱되었기 때문에 power Backward\n",
        "\n",
        "print(\"===\"*10)\n",
        "\n",
        "out = c.sum()\n",
        "print(out)\n",
        "\n",
        "print(\"===\"*10)\n",
        "\n",
        "out.backward()\n",
        "\n",
        "print(a.data)\n",
        "print(a.grad)"
      ],
      "metadata": {
        "colab": {
          "base_uri": "https://localhost:8080/"
        },
        "id": "GNh3D6WfjRUC",
        "outputId": "693fa665-d11e-4cf3-e6cc-d1a09801cabd"
      },
      "execution_count": null,
      "outputs": [
        {
          "output_type": "stream",
          "name": "stdout",
          "text": [
            "tensor([[1., 1.],\n",
            "        [1., 1.]])\n",
            "None\n",
            "None\n",
            "==============================\n",
            "tensor([[3., 3.],\n",
            "        [3., 3.]], grad_fn=<AddBackward0>)\n",
            "==============================\n",
            "tensor([[9., 9.],\n",
            "        [9., 9.]], grad_fn=<PowBackward0>)\n",
            "==============================\n",
            "tensor(36., grad_fn=<SumBackward0>)\n",
            "==============================\n",
            "tensor([[1., 1.],\n",
            "        [1., 1.]])\n",
            "tensor([[6., 6.],\n",
            "        [6., 6.]])\n"
          ]
        }
      ]
    },
    {
      "cell_type": "markdown",
      "source": [
        "# 4. Pytorch를 활용한 모델 학습"
      ],
      "metadata": {
        "id": "ZjhDh_OYlEmR"
      }
    },
    {
      "cell_type": "markdown",
      "source": [
        "## 4-1. 데이터 준비\n",
        "\n",
        "- 파이토치에서는 데이터 준비를 위해 torch.utils.data의 Dataset과 DataLoader사용이 가능\n",
        "  - Vision 데이터셋: https://pytorch.org/vision/stable/datasets.html\n",
        "    - 토치비전(torchvision)은 파이토치에서 제공하는 데이터셋들이 모여있는 패키지\n",
        "  - Text 데이터셋: https://pytorch.org/text/stable/datasets.html\n",
        "  - Audio 데이터셋: https://pytorch.org/audio/stable/datasets.html\n",
        "\n",
        "- DataLoader의 batch_size, train여부, transform과 같은 인자 설정을 통해 데이터를 어떻게 Load할지 정해줄 수 있음"
      ],
      "metadata": {
        "id": "gbwW715hmOJE"
      }
    },
    {
      "cell_type": "markdown",
      "source": [
        "- transforms: 전처리할 때 사용하는 메소드\n",
        "  - (https://pytorch.org/torchvision/stable/datasets.html)\n",
        "- transforms에서 제공하는 클래스 이외는 일반적으로 클래스를 따로 만들어 전처리 단계를 진행\n",
        "- DataLoader의 인자로 들어갈 transform을 미리 정의할 수 있고, Compose를 통해 리스트 안에 순서대로 전처리 진행\n",
        "- ToTensor()를 하는 이유는 torchvision이 PIL Image형태로만 입력을 받기 때문에 데이터 처리를 위해 Tensor형으로 변환이 필요"
      ],
      "metadata": {
        "id": "IUmzkhWNn4N4"
      }
    },
    {
      "cell_type": "code",
      "source": [
        "from torch.utils.data import Dataset, DataLoader\n",
        "import torchvision.transforms as transforms\n",
        "from torchvision import datasets\n",
        "\n",
        "mnist_transform = transforms.Compose([transforms.ToTensor(),\n",
        "                                      transforms.Normalize(mean=(0.5,), std=(1.0,))])  # Compose를 통해, 정규화 전처리"
      ],
      "metadata": {
        "id": "_E43ITdlmkBf"
      },
      "execution_count": null,
      "outputs": []
    },
    {
      "cell_type": "code",
      "source": [
        "# train=True이면 학습용 데이터셋,\n",
        "# train=False이면 평가용 데이터셋\n",
        "trainset = datasets.MNIST(root='/content', train=True, download=True,\n",
        "                          transform=mnist_transform)\n",
        "\n",
        "testset = datasets.MNIST(root='/content', train=False, download=True,\n",
        "                          transform=mnist_transform)\n"
      ],
      "metadata": {
        "id": "bK0jYxxDo6bv",
        "colab": {
          "base_uri": "https://localhost:8080/"
        },
        "outputId": "8bc647ff-2658-4774-9882-6d40b4adcebe"
      },
      "execution_count": null,
      "outputs": [
        {
          "output_type": "stream",
          "name": "stdout",
          "text": [
            "Downloading http://yann.lecun.com/exdb/mnist/train-images-idx3-ubyte.gz\n",
            "Downloading http://yann.lecun.com/exdb/mnist/train-images-idx3-ubyte.gz to /content/MNIST/raw/train-images-idx3-ubyte.gz\n"
          ]
        },
        {
          "output_type": "stream",
          "name": "stderr",
          "text": [
            "100%|██████████| 9912422/9912422 [00:00<00:00, 160091918.89it/s]"
          ]
        },
        {
          "output_type": "stream",
          "name": "stdout",
          "text": [
            "Extracting /content/MNIST/raw/train-images-idx3-ubyte.gz to /content/MNIST/raw\n"
          ]
        },
        {
          "output_type": "stream",
          "name": "stderr",
          "text": [
            "\n"
          ]
        },
        {
          "output_type": "stream",
          "name": "stdout",
          "text": [
            "\n",
            "Downloading http://yann.lecun.com/exdb/mnist/train-labels-idx1-ubyte.gz\n",
            "Downloading http://yann.lecun.com/exdb/mnist/train-labels-idx1-ubyte.gz to /content/MNIST/raw/train-labels-idx1-ubyte.gz\n"
          ]
        },
        {
          "output_type": "stream",
          "name": "stderr",
          "text": [
            "100%|██████████| 28881/28881 [00:00<00:00, 117607469.73it/s]\n"
          ]
        },
        {
          "output_type": "stream",
          "name": "stdout",
          "text": [
            "Extracting /content/MNIST/raw/train-labels-idx1-ubyte.gz to /content/MNIST/raw\n",
            "\n",
            "Downloading http://yann.lecun.com/exdb/mnist/t10k-images-idx3-ubyte.gz\n",
            "Downloading http://yann.lecun.com/exdb/mnist/t10k-images-idx3-ubyte.gz to /content/MNIST/raw/t10k-images-idx3-ubyte.gz\n"
          ]
        },
        {
          "output_type": "stream",
          "name": "stderr",
          "text": [
            "100%|██████████| 1648877/1648877 [00:00<00:00, 44793783.42it/s]"
          ]
        },
        {
          "output_type": "stream",
          "name": "stdout",
          "text": [
            "Extracting /content/MNIST/raw/t10k-images-idx3-ubyte.gz to /content/MNIST/raw\n"
          ]
        },
        {
          "output_type": "stream",
          "name": "stderr",
          "text": [
            "\n"
          ]
        },
        {
          "output_type": "stream",
          "name": "stdout",
          "text": [
            "\n",
            "Downloading http://yann.lecun.com/exdb/mnist/t10k-labels-idx1-ubyte.gz\n",
            "Downloading http://yann.lecun.com/exdb/mnist/t10k-labels-idx1-ubyte.gz to /content/MNIST/raw/t10k-labels-idx1-ubyte.gz\n"
          ]
        },
        {
          "output_type": "stream",
          "name": "stderr",
          "text": [
            "100%|██████████| 4542/4542 [00:00<00:00, 21998301.12it/s]\n"
          ]
        },
        {
          "output_type": "stream",
          "name": "stdout",
          "text": [
            "Extracting /content/MNIST/raw/t10k-labels-idx1-ubyte.gz to /content/MNIST/raw\n",
            "\n"
          ]
        }
      ]
    },
    {
      "cell_type": "code",
      "source": [
        "train_loader = DataLoader(trainset, batch_size=8, shuffle=True,\n",
        "                          num_workers=2)\n",
        "\n",
        "test_loader = DataLoader(testset, batch_size=8, shuffle=False,\n",
        "                         num_workers=2)"
      ],
      "metadata": {
        "id": "Gez545QupK6h"
      },
      "execution_count": null,
      "outputs": []
    },
    {
      "cell_type": "code",
      "source": [
        "dataiter = iter(train_loader)\n",
        "images, labels = next(dataiter)\n",
        "\n",
        "images.shape, labels.shape"
      ],
      "metadata": {
        "colab": {
          "base_uri": "https://localhost:8080/"
        },
        "id": "t5ELnaJbpi8k",
        "outputId": "3c622516-40a0-408f-f01a-e687b3adaec9"
      },
      "execution_count": null,
      "outputs": [
        {
          "output_type": "execute_result",
          "data": {
            "text/plain": [
              "(torch.Size([8, 1, 28, 28]), torch.Size([8]))"
            ]
          },
          "metadata": {},
          "execution_count": 28
        }
      ]
    },
    {
      "cell_type": "code",
      "source": [
        "images[0].shape"
      ],
      "metadata": {
        "colab": {
          "base_uri": "https://localhost:8080/"
        },
        "id": "1mQCCELPrBfm",
        "outputId": "ede05b66-1dbf-4db4-dbb2-17c33a9cacb6"
      },
      "execution_count": null,
      "outputs": [
        {
          "output_type": "execute_result",
          "data": {
            "text/plain": [
              "torch.Size([1, 28, 28])"
            ]
          },
          "metadata": {},
          "execution_count": 31
        }
      ]
    },
    {
      "cell_type": "code",
      "source": [
        "torch_image = torch.squeeze(images[0])   # images[0] 은 (1,8,8) 여기서 squeeze로 차원을 축소하면 ([28,28])\n",
        "torch_image.shape"
      ],
      "metadata": {
        "colab": {
          "base_uri": "https://localhost:8080/"
        },
        "id": "Mo3VQUEipotN",
        "outputId": "b961d6d6-2b33-4c84-aede-cf06e3fad0d3"
      },
      "execution_count": null,
      "outputs": [
        {
          "output_type": "execute_result",
          "data": {
            "text/plain": [
              "torch.Size([28, 28])"
            ]
          },
          "metadata": {},
          "execution_count": 30
        }
      ]
    },
    {
      "cell_type": "code",
      "source": [
        "import matplotlib.pyplot as plt\n",
        "\n",
        "figure = plt.figure(figsize=(12,8))\n",
        "\n",
        "for i in range(1, images.shape[0]+1):\n",
        "  sample_idx = torch.randint(len(trainset), size=(1, )).item()   # 실제값을 인덱스로\n",
        "  img, label = trainset[sample_idx]\n",
        "  figure.add_subplot(2, 4, i)\n",
        "  plt.title(label)\n",
        "  plt.axis('off')\n",
        "  plt.imshow(img.squeeze(), cmap='gray')\n",
        "  plt.show\n"
      ],
      "metadata": {
        "colab": {
          "base_uri": "https://localhost:8080/",
          "height": 401
        },
        "id": "BvINM0Y5sdsO",
        "outputId": "185162c4-7df0-4eb1-ed64-802d84cc44f0"
      },
      "execution_count": null,
      "outputs": [
        {
          "output_type": "display_data",
          "data": {
            "text/plain": [
              "<Figure size 1200x800 with 8 Axes>"
            ],
            "image/png": "[encoded data removed]"
          },
          "metadata": {}
        }
      ]
    },
    {
      "cell_type": "markdown",
      "source": [
        "## 4-2. 신경망 구성\n",
        "\n",
        "- 레이어(layer): 신경망의 핵심 데이터 구조로 하나 이상의 텐서를 입력받아 하나 이상의 텐서를 출력\n",
        "\n",
        "- 모듈(module): 한 개 이상의 계층이 모여서 구성\n",
        "\n",
        "- 모델(model): 한 개 이상의 모듈이 모여서 구성\n"
      ],
      "metadata": {
        "id": "lcfKgBfItoGm"
      }
    },
    {
      "cell_type": "markdown",
      "source": [
        "- torch.nn패키지\n",
        "  - 주로 가중치, 편향값들이 내부에서 자동으로 생성되는 레이어들을 사용할 때 사용(weight 값들을 직접 선언 안함)\n",
        "\n",
        "  - https://pytorch.org/docs/stable/nn.html"
      ],
      "metadata": {
        "id": "GZBEr6Bwt8W9"
      }
    },
    {
      "cell_type": "code",
      "source": [
        "import torch.nn as nn"
      ],
      "metadata": {
        "id": "8RiwlR5pubjp"
      },
      "execution_count": null,
      "outputs": []
    },
    {
      "cell_type": "markdown",
      "source": [
        "torch.nn.Linear 계층 예제\n",
        "- 단순 선형 회귀 일 때,\n",
        "  - input_data가 다음의 2행 3열이라면\n",
        "    - [[1 2 3],\n",
        "    -  [2 4 1]]\n",
        "    - 열의 개수가 입력 차원(in_features)이 되는 것이고,\n",
        "    - 행의 개수는 batch_size가 되는 것.\n",
        "\n",
        "  - torch.nn.Linear(in_features=3, out_features=1, bias=True)로 표현할 수 있음\n"
      ],
      "metadata": {
        "id": "55fYI67hbRqN"
      }
    },
    {
      "cell_type": "code",
      "source": [
        "input = torch.randn(128, 20)  # 입력 텐서의 크기 => (128, 20)\n",
        "print(input.shape)\n",
        "\n",
        "model = nn.Linear(20, 30)     # input_size = 20, output_size = 30\n",
        "print(model)                  # 가중치 20, 편향 30\n",
        "\n",
        "output = model(input)         # 모델에 input값을 넣음.\n",
        "print(output)\n",
        "print(output.size())          # (128,20) (20, 30) 내적의 결과로 output.size => (128, 30)\n",
        "\n",
        "# grad_fn(계산한 함수): AddmmBackward()\n",
        "# 순방향 연산: 모델의 입력 데이터에 행렬-행렬 곱셈을 수행후, 편향(bias)를 더해줌\n",
        "# 역방향 : addmm"
      ],
      "metadata": {
        "colab": {
          "base_uri": "https://localhost:8080/"
        },
        "id": "_F40BaehbN74",
        "outputId": "760cd71a-d08c-4ec6-d048-827753db70ee"
      },
      "execution_count": null,
      "outputs": [
        {
          "output_type": "stream",
          "name": "stdout",
          "text": [
            "torch.Size([128, 20])\n",
            "Linear(in_features=20, out_features=30, bias=True)\n",
            "tensor([[ 0.0870, -0.0915,  0.2073,  ...,  0.6256, -0.0897,  1.4220],\n",
            "        [ 0.6931, -0.3516,  0.2987,  ...,  0.4229,  0.1436,  0.1684],\n",
            "        [-0.1094,  0.2152, -0.3004,  ..., -0.4283, -0.0466,  0.7342],\n",
            "        ...,\n",
            "        [ 0.5736,  1.0053, -0.5246,  ...,  0.7078,  0.5342, -1.1891],\n",
            "        [ 0.3864, -0.3989,  0.0355,  ..., -0.0569, -0.4215,  0.3628],\n",
            "        [ 0.0485, -0.0991, -0.2625,  ...,  0.8381,  1.8632,  1.4361]],\n",
            "       grad_fn=<AddmmBackward0>)\n",
            "torch.Size([128, 30])\n"
          ]
        }
      ]
    },
    {
      "cell_type": "code",
      "source": [
        "# 선형 레이어(Linear layers)\n",
        "# 1d만 가능하므로, .view() 를 통해 1d로 flatten해줘야 함.\n",
        "\n",
        "flatten = input_image.view(1, 28 * 28)\n",
        "flatten.shape\n",
        "\n",
        "lin = nn.Linear(784, 10)(flatten)\n",
        "lin.shape"
      ],
      "metadata": {
        "colab": {
          "base_uri": "https://localhost:8080/"
        },
        "id": "e-jbHnDh7nys",
        "outputId": "0da4aaa4-1fb5-42cd-889e-57fcf77404b8"
      },
      "execution_count": null,
      "outputs": [
        {
          "output_type": "execute_result",
          "data": {
            "text/plain": [
              "torch.Size([1, 10])"
            ]
          },
          "metadata": {},
          "execution_count": 66
        }
      ]
    },
    {
      "cell_type": "markdown",
      "source": [
        "### 4-2-1. Convolution Layer\n",
        "\n",
        "- input = torch.randn(20, 16, 50, 100)\n",
        "  - batch_size : 20\n",
        "  - channel: 16 (입력채널의 갯수)\n",
        "  - height: 50 (높이)\n",
        "  - width: 100 (너비)\n",
        "\n",
        "- nn.Conv2d(16, 33, (3,5), stride=(2,1), padding=(4,2), dilation=(3,1))\n",
        "  - 입력 채널 수: 16\n",
        "  - 출력 채널 수: 33\n",
        "  - 커널 크기: (3, 5)\n",
        "  - 스트라이드(stride): (2, 1)\n",
        "  - 패딩(padding): (4, 2)\n",
        "  - 확장(dilation): (3, 1)\n",
        "\n",
        "---\n",
        "Tensorflow로 표현한다면?\n",
        "- tf.keras.Sequential([\n",
        "    tf.keras.layers.Conv2D(33, (3, 5), strides=(2, 1), padding='valid', input_shape=(None, None, 16))\n",
        "])\n",
        "\n",
        "- model = tf.keras.Sequential()\n",
        "  - model.add(tf.keras.layers.Conv2D(33, (3, 5), strides=(2, 1), padding='valid', input_shape=(None, None, 16)))"
      ],
      "metadata": {
        "id": "u_X7pHPEbfsr"
      }
    },
    {
      "cell_type": "code",
      "source": [
        "input = torch.randn(20, 16, 50, 100)\n",
        "\n",
        "model = nn.Conv2d(16, 33, (3,5), stride=(2,1), padding=(4,2), dilation=(3,1))\n",
        "\n",
        "# Tensorflow를 썼을 때는\n",
        "# model = tf.keras.Sequential()\n",
        "# model.add(tf.keras.layers.Conv2D(33, (3,5), strides=(2,1), padding=\"valid\",\n",
        "#           input_shape=(None, None, 16)))\n",
        "\n",
        "output = model(input)\n",
        "\n",
        "output.shape\n",
        "# batch_size = 20\n",
        "# 출력 채널 33 : (Conv2D에서 설정된 출력 채널의 수)\n",
        "# 출력 높이 26 : ((입력 높이 + 2 * 패딩 높이 - 확장 높이 * (커널 높이 - 1) - 1) / 스트라이드 높이) + 1 => (50 + 2*4 - 3*2 -1)/2 + 1 = (50+8-6-1)/2+1) = 25.5 + 1 = 26.5\n",
        "# 출력 너비 100: ((입력 너비 + 2 * 패딩 너비 - 확장 너비 * (커널 너비 - 1) - 1) / 스트라이드 너비) + 1 => (100 + 2*2 - 1*4 - 1)/1 + 1 = (100+4-4-1)/1 + 1 = 100"
      ],
      "metadata": {
        "colab": {
          "base_uri": "https://localhost:8080/"
        },
        "id": "LYHmLPmDcmZc",
        "outputId": "4aee62ed-6426-4451-a370-af4a41e82fc6"
      },
      "execution_count": null,
      "outputs": [
        {
          "output_type": "execute_result",
          "data": {
            "text/plain": [
              "torch.Size([20, 33, 26, 100])"
            ]
          },
          "metadata": {},
          "execution_count": 21
        }
      ]
    },
    {
      "cell_type": "code",
      "source": [
        "layer = nn.Conv2d(1,20,5,1).to(torch.device('cpu'))\n",
        "layer"
      ],
      "metadata": {
        "colab": {
          "base_uri": "https://localhost:8080/"
        },
        "id": "f6vHXrXqlLKQ",
        "outputId": "4e5c9cdf-9068-4b96-e22e-e3ac7a8fc496"
      },
      "execution_count": null,
      "outputs": [
        {
          "output_type": "execute_result",
          "data": {
            "text/plain": [
              "Conv2d(1, 20, kernel_size=(5, 5), stride=(1, 1))"
            ]
          },
          "metadata": {},
          "execution_count": 33
        }
      ]
    },
    {
      "cell_type": "code",
      "source": [
        "layer.weight.shape\n",
        "\n",
        "# 컨볼루션 레이어의 가중치 텐서\n",
        "# 출력 채널:20\n",
        "# 입력 채널:1\n",
        "# 커널: 5, 5"
      ],
      "metadata": {
        "colab": {
          "base_uri": "https://localhost:8080/"
        },
        "id": "b_JxF_jJdfti",
        "outputId": "e1abb800-5c8f-43c5-895a-22c3fbb49aa4"
      },
      "execution_count": null,
      "outputs": [
        {
          "output_type": "execute_result",
          "data": {
            "text/plain": [
              "torch.Size([20, 1, 5, 5])"
            ]
          },
          "metadata": {},
          "execution_count": 34
        }
      ]
    },
    {
      "cell_type": "code",
      "source": [
        "weight = layer.weight.detach().numpy()\n",
        "\n",
        "plt.imshow(weight[0, 0, :, :], 'gray')\n",
        "plt.colorbar()"
      ],
      "metadata": {
        "colab": {
          "base_uri": "https://localhost:8080/",
          "height": 448
        },
        "id": "qGxAF3XEsZ8q",
        "outputId": "dfe5d939-887c-4f9c-e3ce-ad33fc050f6f"
      },
      "execution_count": null,
      "outputs": [
        {
          "output_type": "execute_result",
          "data": {
            "text/plain": [
              "<matplotlib.colorbar.Colorbar at 0x7ad0859958a0>"
            ]
          },
          "metadata": {},
          "execution_count": 44
        },
        {
          "output_type": "display_data",
          "data": {
            "text/plain": [
              "<Figure size 640x480 with 2 Axes>"
            ],
            "image/png": "[encoded data removed]"
          },
          "metadata": {}
        }
      ]
    },
    {
      "cell_type": "code",
      "source": [
        "# mnist의 사진을 이용.\n",
        "print(images.shape)  # batch_size = 8 (8장이 있고), 채널=1(흑백), 높이=28, 너비:28\n",
        "\n",
        "print(images[0].shape)\n",
        "\n",
        "input_data = torch.unsqueeze(images[0], dim=0)  # 첫번째 사진만 꺼내오겠다.\n",
        "print(input_data.size())\n",
        "\n",
        "\n",
        "# layer 통과시키기\n",
        "output_data = layer(input_data)  # layer -> conv2d(1, 20, 5, 1)\n",
        "output = output_data.data\n",
        "output_arr = output.numpy()\n",
        "output_arr.shape\n",
        "\n",
        "# 높이 28 = (28 + 2 * 패딩 - 커널)/stride + 1 = (28+0-5)/1 + 1 = 24\n",
        "# 너비 28 = (28 + 2 * 패딩 - 커널)/stride + 1 = (28+0-5)/1 + 1 = 24"
      ],
      "metadata": {
        "colab": {
          "base_uri": "https://localhost:8080/"
        },
        "id": "6o908IbZs-uL",
        "outputId": "696b221c-0b92-4eac-9db9-196f67c6851a"
      },
      "execution_count": null,
      "outputs": [
        {
          "output_type": "stream",
          "name": "stdout",
          "text": [
            "torch.Size([8, 1, 28, 28])\n",
            "torch.Size([1, 28, 28])\n",
            "torch.Size([1, 1, 28, 28])\n"
          ]
        },
        {
          "output_type": "execute_result",
          "data": {
            "text/plain": [
              "(1, 20, 24, 24)"
            ]
          },
          "metadata": {},
          "execution_count": 58
        }
      ]
    },
    {
      "cell_type": "code",
      "source": [
        "input_images = torch.squeeze(images[0])\n",
        "\n",
        "plt.figure(figsize=(12,8))\n",
        "\n",
        "plt.subplot(1,2,1)\n",
        "plt.title(\"Input\")\n",
        "plt.imshow(input_images, 'gray')\n",
        "\n",
        "plt.subplot(1,2,2)\n",
        "plt.title(\"Weight\")\n",
        "plt.imshow(weight[0, 0, :, :], 'gray')"
      ],
      "metadata": {
        "colab": {
          "base_uri": "https://localhost:8080/",
          "height": 349
        },
        "id": "sogy47Whx3fu",
        "outputId": "6e232f3e-acf4-4fb9-d671-c2a471e4e8d3"
      },
      "execution_count": null,
      "outputs": [
        {
          "output_type": "execute_result",
          "data": {
            "text/plain": [
              "<matplotlib.image.AxesImage at 0x7ad085bc9f60>"
            ]
          },
          "metadata": {},
          "execution_count": 61
        },
        {
          "output_type": "display_data",
          "data": {
            "text/plain": [
              "<Figure size 1200x800 with 2 Axes>"
            ],
            "image/png": "[encoded data removed]"
          },
          "metadata": {}
        }
      ]
    },
    {
      "cell_type": "markdown",
      "source": [
        "### 4-2-2. Pooling(풀링) Layer\n",
        "- F.max_pool2d\n",
        "  - stride\n",
        "  - kernel_size\n",
        "\n",
        "- torch.nn.MaxPool2D 많이 사용\n",
        "\n",
        "---\n",
        "- Tensorflow\n",
        "  - model = tf.keras.Sequential()\n",
        "  - model.add(tf.keras.layers.Conv2D(33, (3,5), strides=(2,1), padding=\"valid\", input_shape=(None, None, 16)))\n",
        "  - model.add(tf.keras.layers.MaxPool2D(pool_size=(2, 2)))"
      ],
      "metadata": {
        "id": "JQBGDpyCy77S"
      }
    },
    {
      "cell_type": "code",
      "source": [
        "import torch.nn.functional as F\n",
        "\n",
        "pool = F.max_pool2d(output, 2, 2)\n",
        "# pool = torch.nn.MaxPool2d\n",
        "\n",
        "\n",
        "\n",
        "pool.shape"
      ],
      "metadata": {
        "colab": {
          "base_uri": "https://localhost:8080/"
        },
        "id": "3Jsyfs4WzA3r",
        "outputId": "5d8c1af2-3702-4c19-9e62-b4d1f8e00670"
      },
      "execution_count": null,
      "outputs": [
        {
          "output_type": "execute_result",
          "data": {
            "text/plain": [
              "torch.Size([1, 20, 12, 12])"
            ]
          },
          "metadata": {},
          "execution_count": 62
        }
      ]
    },
    {
      "cell_type": "markdown",
      "source": [
        "- MaxPool Layer는 weight가 없기 때문에 numpy()변환이 바로 가능"
      ],
      "metadata": {
        "id": "Mv6kj6lo6Jwc"
      }
    },
    {
      "cell_type": "code",
      "source": [
        "pool_arr = pool.numpy()    # 24, 24 size가 12, 12로 줄었음\n",
        "pool_arr.shape"
      ],
      "metadata": {
        "colab": {
          "base_uri": "https://localhost:8080/"
        },
        "id": "bBCNvmz56Oj-",
        "outputId": "80f98cb5-a6d8-48d1-e1dd-7ae1a29fbb05"
      },
      "execution_count": null,
      "outputs": [
        {
          "output_type": "execute_result",
          "data": {
            "text/plain": [
              "(1, 20, 12, 12)"
            ]
          },
          "metadata": {},
          "execution_count": 64
        }
      ]
    },
    {
      "cell_type": "code",
      "source": [
        "plt.figure(figsize=(12,8))\n",
        "\n",
        "plt.subplot(1,2,1)\n",
        "plt.title(\"Input\")\n",
        "plt.imshow(input_images, 'gray')\n",
        "\n",
        "plt.subplot(1,2,2)\n",
        "plt.title(\"Output\")\n",
        "plt.imshow(pool_arr[0, 0, :, :], 'gray')"
      ],
      "metadata": {
        "colab": {
          "base_uri": "https://localhost:8080/",
          "height": 543
        },
        "id": "Qo5z5OZ96XYH",
        "outputId": "1b4db044-700c-4176-efae-32ac6d2be89b"
      },
      "execution_count": null,
      "outputs": [
        {
          "output_type": "execute_result",
          "data": {
            "text/plain": [
              "<matplotlib.image.AxesImage at 0x7ad0858e8160>"
            ]
          },
          "metadata": {},
          "execution_count": 65
        },
        {
          "output_type": "display_data",
          "data": {
            "text/plain": [
              "<Figure size 1200x800 with 2 Axes>"
            ],
            "image/png": "[encoded data removed]"
          },
          "metadata": {}
        }
      ]
    },
    {
      "cell_type": "markdown",
      "source": [
        "### 4-2-3. 활성화 함수\n",
        "\n",
        "- F.softmax(다중분류)\n",
        "- F.relu와 같은 활성화 함수"
      ],
      "metadata": {
        "id": "-KXjWvpU74-1"
      }
    },
    {
      "cell_type": "code",
      "source": [
        "input_images.shape"
      ],
      "metadata": {
        "colab": {
          "base_uri": "https://localhost:8080/"
        },
        "id": "9XXblofI800Z",
        "outputId": "76eb3e15-f6cf-43c8-cef0-bb10a4d26570"
      },
      "execution_count": null,
      "outputs": [
        {
          "output_type": "execute_result",
          "data": {
            "text/plain": [
              "torch.Size([28, 28])"
            ]
          },
          "metadata": {},
          "execution_count": 73
        }
      ]
    },
    {
      "cell_type": "code",
      "source": [
        "with torch.no_grad():\n",
        "  flatten = input_images.view(1, 28 * 28)\n",
        "  lin = nn.Linear(784, 10)(flatten)\n",
        "  softmax = F.softmax(lin, dim=1)\n",
        "\n",
        "softmax"
      ],
      "metadata": {
        "colab": {
          "base_uri": "https://localhost:8080/"
        },
        "id": "kkYwGvqE8JdR",
        "outputId": "e37014de-a336-4973-bfa8-33753fadcf46"
      },
      "execution_count": null,
      "outputs": [
        {
          "output_type": "execute_result",
          "data": {
            "text/plain": [
              "tensor([[0.0942, 0.0943, 0.1039, 0.0847, 0.1157, 0.0682, 0.0933, 0.0979, 0.1484,\n",
              "         0.0994]])"
            ]
          },
          "metadata": {},
          "execution_count": 71
        }
      ]
    },
    {
      "cell_type": "code",
      "source": [
        "np.sum(softmax.numpy())"
      ],
      "metadata": {
        "colab": {
          "base_uri": "https://localhost:8080/"
        },
        "id": "-BzZp8aG9rkh",
        "outputId": "36d0884c-0172-4631-a2cc-35681ecab304"
      },
      "execution_count": null,
      "outputs": [
        {
          "output_type": "execute_result",
          "data": {
            "text/plain": [
              "0.9999999"
            ]
          },
          "metadata": {},
          "execution_count": 74
        }
      ]
    },
    {
      "cell_type": "code",
      "source": [
        "inputs = torch.randn(4, 3, 28, 28).to(device)\n",
        "print(inputs.shape)\n",
        "\n",
        "layer = nn.Conv2d(3, 20, 5, 1).to(device)\n",
        "output = F.relu(layer(inputs))\n",
        "\n",
        "output.shape\n",
        "# 입력 batch_size : 4\n",
        "# 출력 채널의 갯수(conv2D를 거치며): 20\n",
        "# 높이: (28(높이) - 5(커널))/1(스트라이드) + 1 = 28 - 5 + 1 = 24\n",
        "# 너비: (28(너비) - 5(커널))/1(스트라이드) + 1 = 28 - 5 + 1 = 24"
      ],
      "metadata": {
        "colab": {
          "base_uri": "https://localhost:8080/"
        },
        "id": "-0xVxaay94CS",
        "outputId": "c828eace-a9d4-40ac-f0c5-795df880d486"
      },
      "execution_count": null,
      "outputs": [
        {
          "output_type": "stream",
          "name": "stdout",
          "text": [
            "torch.Size([4, 3, 28, 28])\n"
          ]
        },
        {
          "output_type": "execute_result",
          "data": {
            "text/plain": [
              "torch.Size([4, 20, 24, 24])"
            ]
          },
          "metadata": {},
          "execution_count": 80
        }
      ]
    },
    {
      "cell_type": "markdown",
      "source": [
        "## 4-3. 모델 정의\n",
        "\n",
        "- nn.Module 상속 클래스 정의\n",
        "  - nn.Module을 상속받는 클래스 정의\n",
        "  - \\_\\_init__(): 모델에서 사용될 모듈과 활성화 함수 등을 정의\n",
        "  - forward() : 모델에서 실행되어야 하는 연산 정의"
      ],
      "metadata": {
        "id": "IpB2kIgc_4gb"
      }
    },
    {
      "cell_type": "code",
      "source": [
        "# 단순한 선형 모델 정의해보자.\n",
        "class Model(nn.Module):                  # nn.Module 클래스를 상속\n",
        "  def __init__(self, inputs):            # inputs은 입력될 차원\n",
        "    super(Model, self).__init__()        # nn.Module의 생성자를 호출\n",
        "    self.layer = nn.Linear(inputs, 1)    # layer 정의:  inputs를 받아 1차원 텐서를 출력\n",
        "    # self.layer = tf.keras.layers.Dense(1, input_shape=(inputs,))\n",
        "\n",
        "    self.activation = nn.Sigmoid()       # 활성화 함수 정의\n",
        "    # self.activation = tf.keras.layers.Activation('sigmoid')\n",
        "\n",
        "  def forward(self, x):                  # 연산 정의\n",
        "    x = self.layer(x)                    # x는 layer층을 거치고\n",
        "    x = self.activation(x)               # 활성화 함수도 거친다.\n",
        "    return x\n",
        "\n",
        "model = Model(1)\n",
        "print(list(model.children()))\n",
        "print(list(model.modules()))"
      ],
      "metadata": {
        "colab": {
          "base_uri": "https://localhost:8080/"
        },
        "id": "bmDQypZNAqf6",
        "outputId": "6cf07d0d-544b-4f65-8c48-7b1c8c58d1d9"
      },
      "execution_count": null,
      "outputs": [
        {
          "output_type": "stream",
          "name": "stdout",
          "text": [
            "[Linear(in_features=1, out_features=1, bias=True), Sigmoid()]\n",
            "[Model(\n",
            "  (layer): Linear(in_features=1, out_features=1, bias=True)\n",
            "  (activation): Sigmoid()\n",
            "), Linear(in_features=1, out_features=1, bias=True), Sigmoid()]\n"
          ]
        }
      ]
    },
    {
      "cell_type": "markdown",
      "source": [
        "nn.Sequential 을 이용한 신경망 정의\n",
        "\n",
        "- nn.Sequential 객체로 그 안에 각 모듈을 순차적으로 실행\n",
        "\n",
        "- \\_\\_init__()에서 사용할 네트워크 모델들을 nn.Sequential로 정의 가능\n",
        "- forward() 에서 실행되어야 할 연산을 가독성 높게 간편히 작성 가능"
      ],
      "metadata": {
        "id": "5OZpnoF5E4uk"
      }
    },
    {
      "cell_type": "code",
      "source": [
        "class Model(nn.Module):\n",
        "  def __init__(self):\n",
        "    super(Model, self).__init__()\n",
        "    self.layer1 = nn.Sequential(\n",
        "        nn.Conv2d(in_channels=3, out_channels=64, kernel_size=5),\n",
        "        nn.ReLU(inplace=True),\n",
        "        nn.MaxPool2d(2)\n",
        "    )\n",
        "\n",
        "    self.layer2 = nn.Sequential(\n",
        "        nn.Conv2d(in_channels=64, out_channels=32, kernel_size=5),\n",
        "        nn.ReLU(inplace=True),\n",
        "        nn.MaxPool2d(2)\n",
        "    )\n",
        "\n",
        "    self.layer3 = nn.Sequential(\n",
        "        nn.Linear(in_features=30*5*5, out_features=10, bias=True),\n",
        "        nn.Softmax(dim=1)\n",
        "    )\n",
        "\n",
        "  def forward(self, x):\n",
        "    x = self.layer(1)\n",
        "    x = self.layer(2)\n",
        "    x = x.view(x.shape[0], -1)\n",
        "    x= self.layer(3)\n",
        "    return x\n",
        "\n",
        "model = Model()\n",
        "\n",
        "print(list(model.children()))\n",
        "print(list(model.modules()))"
      ],
      "metadata": {
        "colab": {
          "base_uri": "https://localhost:8080/"
        },
        "id": "Q--81Z91FaBv",
        "outputId": "ded42f1e-b515-41a5-d174-e41abe1527ec"
      },
      "execution_count": null,
      "outputs": [
        {
          "output_type": "stream",
          "name": "stdout",
          "text": [
            "[Sequential(\n",
            "  (0): Conv2d(3, 64, kernel_size=(5, 5), stride=(1, 1))\n",
            "  (1): ReLU(inplace=True)\n",
            "  (2): MaxPool2d(kernel_size=2, stride=2, padding=0, dilation=1, ceil_mode=False)\n",
            "), Sequential(\n",
            "  (0): Conv2d(64, 32, kernel_size=(5, 5), stride=(1, 1))\n",
            "  (1): ReLU(inplace=True)\n",
            "  (2): MaxPool2d(kernel_size=2, stride=2, padding=0, dilation=1, ceil_mode=False)\n",
            "), Sequential(\n",
            "  (0): Linear(in_features=750, out_features=10, bias=True)\n",
            "  (1): Softmax(dim=1)\n",
            ")]\n",
            "[Model(\n",
            "  (layer1): Sequential(\n",
            "    (0): Conv2d(3, 64, kernel_size=(5, 5), stride=(1, 1))\n",
            "    (1): ReLU(inplace=True)\n",
            "    (2): MaxPool2d(kernel_size=2, stride=2, padding=0, dilation=1, ceil_mode=False)\n",
            "  )\n",
            "  (layer2): Sequential(\n",
            "    (0): Conv2d(64, 32, kernel_size=(5, 5), stride=(1, 1))\n",
            "    (1): ReLU(inplace=True)\n",
            "    (2): MaxPool2d(kernel_size=2, stride=2, padding=0, dilation=1, ceil_mode=False)\n",
            "  )\n",
            "  (layer3): Sequential(\n",
            "    (0): Linear(in_features=750, out_features=10, bias=True)\n",
            "    (1): Softmax(dim=1)\n",
            "  )\n",
            "), Sequential(\n",
            "  (0): Conv2d(3, 64, kernel_size=(5, 5), stride=(1, 1))\n",
            "  (1): ReLU(inplace=True)\n",
            "  (2): MaxPool2d(kernel_size=2, stride=2, padding=0, dilation=1, ceil_mode=False)\n",
            "), Conv2d(3, 64, kernel_size=(5, 5), stride=(1, 1)), ReLU(inplace=True), MaxPool2d(kernel_size=2, stride=2, padding=0, dilation=1, ceil_mode=False), Sequential(\n",
            "  (0): Conv2d(64, 32, kernel_size=(5, 5), stride=(1, 1))\n",
            "  (1): ReLU(inplace=True)\n",
            "  (2): MaxPool2d(kernel_size=2, stride=2, padding=0, dilation=1, ceil_mode=False)\n",
            "), Conv2d(64, 32, kernel_size=(5, 5), stride=(1, 1)), ReLU(inplace=True), MaxPool2d(kernel_size=2, stride=2, padding=0, dilation=1, ceil_mode=False), Sequential(\n",
            "  (0): Linear(in_features=750, out_features=10, bias=True)\n",
            "  (1): Softmax(dim=1)\n",
            "), Linear(in_features=750, out_features=10, bias=True), Softmax(dim=1)]\n"
          ]
        }
      ]
    },
    {
      "cell_type": "markdown",
      "source": [
        "### 4-3-1. 모델의 파라미터\n",
        "\n",
        "- 손실 함수(Loss Function)\n",
        "  - 예측값과 실제값 사이의 오차를 측정\n",
        "  - 학습이 진행되면서, 학습이 얼마나 잘 진행되고 있는지를 나타내는 지표의 역할\n",
        "  - 모델이 훈련하는 동안 최소화될 값\n",
        "  - 손실 함수에 따른 결과를 통해 학습할 파라미터를 조정해나감\n",
        "  - 미분 가능한 함수 사용\n",
        "  - Pytorch의 주요 손실 함수\n",
        "    - torch.nn.BCEloss(Binary crossentropy)\n",
        "      - 이진 분류를 위해 사용\n",
        "    - torch.nn.CrossEntropyLoss\n",
        "      - 다중 클래스 분류를 위해 사용\n",
        "    - torch.nn.MSELoss(Mean squared Error)\n",
        "      - 회귀 모델에서 사용\n",
        "\n",
        "- 옵티마이저(Optimizer)\n",
        "  - 손실 함수를 기반으로 모델이 어떻게 업데이트 되어야 하는지를 결정(어떤 종류의 확률적 경사 하강법을 사용할지)\n",
        "  - optimizer는 step()을 통해 전달받은 파라미터로 모델 업데이트\n",
        "  - 모든 옵티마이저의 기본으로 torch.optim.Optimizer(params, defaults)클래스를 사용\n",
        "  - zero_grad()를 이용해 옵티마이저에 사용된 파라미터들의 기울기를 0으로 설정\n",
        "  - torch.optim.ir_schedular를 이용해 에포크에 따라 학습률(learning_rate) 조절\n",
        "  - Pytorch의 주요 옵티마이저\n",
        "    - optim.Adadelta\n",
        "    - optim.Adagrad\n",
        "    - optim.Adam\n",
        "    - optim.RMSprop\n",
        "    - optim.SGD"
      ],
      "metadata": {
        "id": "ke6jrtsCekBY"
      }
    },
    {
      "cell_type": "markdown",
      "source": [
        "<img src=\"https://img1.daumcdn.net/thumb/R720x0.q80/?scode=mtistory2&fname=http%3A%2F%2Fcfile25.uf.tistory.com%2Fimage%2F222B4F4F562BD0330EA41C\">"
      ],
      "metadata": {
        "id": "BApDjo_zg1aD"
      }
    },
    {
      "cell_type": "markdown",
      "source": [
        "- 학습률 스케줄러(Learning Rate Schedular)\n",
        "  - 학습시 특정 조건에 따라 학습률을 조정해나가며 최적화 시킬 수 있음.\n",
        "  - 일정 횟수 동안 성능이 나아지지 않는다면 학습률을 감소시키거나 전역 최소점(global minimum)근처에 가면 학습률을 줄이는 시도를 할 수있음\n",
        "  - Pytorch의 학습률 스케줄러 종류\n",
        "    - optim.lr_schedular.LambdaLR\n",
        "      - 람다 함수를 이용해 결과를 학습률로 설정\n",
        "    - optim.lr_schedular.StepLR\n",
        "      - 단계(step)마다 학습률을 감마 비율만큼 감소\n",
        "    - optim.lr_schedular.MultiStepLR\n",
        "      - StepLR과 비슷하지만 단계가 아니라 지정된 에포크에만 감마 비율로 감소\n",
        "    - optim.lr_schedular.ExponentialLR\n",
        "      - 에포크마다 이전 학습률에 감마를 곱함\n",
        "    - optim.lr_schedular.CosineAnnealingLR\n",
        "      - 학습률을 코사인함수의 형태처럼 변화시켜 학습률이 커지기도 작아지기도 함\n",
        "    - optim.lr_schedular.ReduceLROnPlateau\n",
        "      - 학습이 잘되는지 아닌지에 따라 동적으로 학습률을 조정해나감"
      ],
      "metadata": {
        "id": "DBTT_bgslYxj"
      }
    },
    {
      "cell_type": "markdown",
      "source": [
        "- 지표(Metric)\n",
        "  - 정확도가 개선되고 있는지 등을 확인\n",
        "  - !pip install torchmetrics"
      ],
      "metadata": {
        "id": "2UtsTpOkm7P9"
      }
    },
    {
      "cell_type": "code",
      "source": [
        "lossfunc1 = nn.MSELoss()\n",
        "lossfunc2 = nn.CrossEntropyLoss()"
      ],
      "metadata": {
        "id": "cnSkYIKzfbhw"
      },
      "execution_count": null,
      "outputs": []
    },
    {
      "cell_type": "code",
      "source": [
        "lossfunc1"
      ],
      "metadata": {
        "colab": {
          "base_uri": "https://localhost:8080/"
        },
        "id": "lCzsFPCYfbrp",
        "outputId": "39088fb6-73ee-47ab-bbc1-ffaf15eea1be"
      },
      "execution_count": null,
      "outputs": [
        {
          "output_type": "execute_result",
          "data": {
            "text/plain": [
              "MSELoss()"
            ]
          },
          "metadata": {},
          "execution_count": 5
        }
      ]
    },
    {
      "cell_type": "code",
      "source": [
        "!pip install torchmetrics"
      ],
      "metadata": {
        "colab": {
          "base_uri": "https://localhost:8080/"
        },
        "id": "R_0KLwR2fb2W",
        "outputId": "cd2f4061-179d-4872-8d44-31599bcbf199"
      },
      "execution_count": null,
      "outputs": [
        {
          "output_type": "stream",
          "name": "stdout",
          "text": [
            "Collecting torchmetrics\n",
            "  Downloading torchmetrics-1.2.0-py3-none-any.whl (805 kB)\n",
            "\u001b[?25l     \u001b[90m━━━━━━━━━━━━━━━━━━━━━━━━━━━━━━━━━━━━━━━━\u001b[0m \u001b[32m0.0/805.2 kB\u001b[0m \u001b[31m?\u001b[0m eta \u001b[36m-:--:--\u001b[0m\r\u001b[2K     \u001b[91m━━━━━━━━━\u001b[0m\u001b[91m╸\u001b[0m\u001b[90m━━━━━━━━━━━━━━━━━━━━━━━━━━━━━\u001b[0m \u001b[32m204.8/805.2 kB\u001b[0m \u001b[31m5.9 MB/s\u001b[0m eta \u001b[36m0:00:01\u001b[0m\r\u001b[2K     \u001b[91m━━━━━━━━━━━━━━━━━━━━━━━━━━━━━━\u001b[0m\u001b[91m╸\u001b[0m\u001b[90m━━━━━━━━\u001b[0m \u001b[32m634.9/805.2 kB\u001b[0m \u001b[31m9.4 MB/s\u001b[0m eta \u001b[36m0:00:01\u001b[0m\r\u001b[2K     \u001b[90m━━━━━━━━━━━━━━━━━━━━━━━━━━━━━━━━━━━━━━━\u001b[0m \u001b[32m805.2/805.2 kB\u001b[0m \u001b[31m9.1 MB/s\u001b[0m eta \u001b[36m0:00:00\u001b[0m\n",
            "\u001b[?25hRequirement already satisfied: numpy>1.20.0 in /usr/local/lib/python3.10/dist-packages (from torchmetrics) (1.23.5)\n",
            "Requirement already satisfied: torch>=1.8.1 in /usr/local/lib/python3.10/dist-packages (from torchmetrics) (2.0.1+cu118)\n",
            "Collecting lightning-utilities>=0.8.0 (from torchmetrics)\n",
            "  Downloading lightning_utilities-0.9.0-py3-none-any.whl (23 kB)\n",
            "Requirement already satisfied: packaging>=17.1 in /usr/local/lib/python3.10/dist-packages (from lightning-utilities>=0.8.0->torchmetrics) (23.2)\n",
            "Requirement already satisfied: typing-extensions in /usr/local/lib/python3.10/dist-packages (from lightning-utilities>=0.8.0->torchmetrics) (4.5.0)\n",
            "Requirement already satisfied: filelock in /usr/local/lib/python3.10/dist-packages (from torch>=1.8.1->torchmetrics) (3.12.4)\n",
            "Requirement already satisfied: sympy in /usr/local/lib/python3.10/dist-packages (from torch>=1.8.1->torchmetrics) (1.12)\n",
            "Requirement already satisfied: networkx in /usr/local/lib/python3.10/dist-packages (from torch>=1.8.1->torchmetrics) (3.1)\n",
            "Requirement already satisfied: jinja2 in /usr/local/lib/python3.10/dist-packages (from torch>=1.8.1->torchmetrics) (3.1.2)\n",
            "Requirement already satisfied: triton==2.0.0 in /usr/local/lib/python3.10/dist-packages (from torch>=1.8.1->torchmetrics) (2.0.0)\n",
            "Requirement already satisfied: cmake in /usr/local/lib/python3.10/dist-packages (from triton==2.0.0->torch>=1.8.1->torchmetrics) (3.27.6)\n",
            "Requirement already satisfied: lit in /usr/local/lib/python3.10/dist-packages (from triton==2.0.0->torch>=1.8.1->torchmetrics) (17.0.2)\n",
            "Requirement already satisfied: MarkupSafe>=2.0 in /usr/local/lib/python3.10/dist-packages (from jinja2->torch>=1.8.1->torchmetrics) (2.1.3)\n",
            "Requirement already satisfied: mpmath>=0.19 in /usr/local/lib/python3.10/dist-packages (from sympy->torch>=1.8.1->torchmetrics) (1.3.0)\n",
            "Installing collected packages: lightning-utilities, torchmetrics\n",
            "Successfully installed lightning-utilities-0.9.0 torchmetrics-1.2.0\n"
          ]
        }
      ]
    },
    {
      "cell_type": "code",
      "source": [
        "import torchmetrics\n",
        "\n",
        "# 1번 방법\n",
        "preds = torch.randn(10,5).softmax(dim=1)\n",
        "target = torch.randint(5, (10,))\n",
        "print(preds)\n",
        "print(target)\n",
        "\n",
        "acc = torchmetrics.functional.accuracy(preds, target, task=\"multiclass\", num_classes=5)\n",
        "print(\"정확도:\", acc)"
      ],
      "metadata": {
        "colab": {
          "base_uri": "https://localhost:8080/"
        },
        "id": "3baJf5PdnLug",
        "outputId": "a5f4e199-8022-46d4-b387-9a131b5f5d09"
      },
      "execution_count": null,
      "outputs": [
        {
          "output_type": "stream",
          "name": "stdout",
          "text": [
            "tensor([[0.0693, 0.0665, 0.6044, 0.1999, 0.0599],\n",
            "        [0.1983, 0.1814, 0.1739, 0.0949, 0.3515],\n",
            "        [0.1353, 0.2850, 0.0616, 0.4223, 0.0958],\n",
            "        [0.2107, 0.1941, 0.0639, 0.3562, 0.1752],\n",
            "        [0.3222, 0.0213, 0.5609, 0.0606, 0.0349],\n",
            "        [0.1330, 0.0431, 0.6506, 0.0797, 0.0936],\n",
            "        [0.0405, 0.7854, 0.1054, 0.0481, 0.0206],\n",
            "        [0.0875, 0.1120, 0.0794, 0.1001, 0.6210],\n",
            "        [0.1216, 0.4510, 0.0864, 0.2531, 0.0880],\n",
            "        [0.3076, 0.1707, 0.2005, 0.2589, 0.0623]])\n",
            "tensor([2, 0, 4, 1, 0, 2, 4, 1, 2, 1])\n",
            "정확도: tensor(0.2000)\n"
          ]
        }
      ]
    },
    {
      "cell_type": "code",
      "source": [
        "# 2번 방법\n",
        "metric = torchmetrics.Accuracy(task=\"multiclass\", num_classes=5)\n",
        "\n",
        "preds = torch.randn(10,5).softmax(dim=1)\n",
        "target = torch.randint(5, (10,))\n",
        "\n",
        "acc = metric(preds, target)\n",
        "\n",
        "print(acc)"
      ],
      "metadata": {
        "colab": {
          "base_uri": "https://localhost:8080/"
        },
        "id": "j3QcZvw3opOm",
        "outputId": "1906a1cf-3e62-4b88-c544-8478155bab6f"
      },
      "execution_count": null,
      "outputs": [
        {
          "output_type": "stream",
          "name": "stdout",
          "text": [
            "tensor(0.1000)\n"
          ]
        }
      ]
    },
    {
      "cell_type": "markdown",
      "source": [
        "## 4-4. 사전 학습 모델\n",
        "\n",
        "- https://pytorch.org/vision/stable/models.html"
      ],
      "metadata": {
        "id": "50m3xewKIOHu"
      }
    },
    {
      "cell_type": "markdown",
      "source": [
        "# 5. 선형 회귀 모델(Linear Regression Model)실습"
      ],
      "metadata": {
        "id": "J6IKzBEfqE3F"
      }
    },
    {
      "cell_type": "code",
      "source": [
        "import torch\n",
        "import torch.nn as nn\n",
        "import numpy as np\n",
        "from sklearn import datasets\n",
        "import matplotlib.pyplot as plt"
      ],
      "metadata": {
        "id": "4MliNnOvrwaS"
      },
      "execution_count": null,
      "outputs": []
    },
    {
      "cell_type": "markdown",
      "source": [
        "## 5-1. 데이터 정의"
      ],
      "metadata": {
        "id": "ZYWSX420qSUz"
      }
    },
    {
      "cell_type": "code",
      "source": [
        "# 임의 데이터 생성\n",
        "\n",
        "X = torch.randn(200,1) * 10      # batch_size=200, in_features = 1\n",
        "print(X.shape)\n",
        "\n",
        "y = X + 3 * torch.randn(200,1)\n",
        "print(y.shape)"
      ],
      "metadata": {
        "colab": {
          "base_uri": "https://localhost:8080/"
        },
        "id": "tkRwfTe_tzQ6",
        "outputId": "0030fea7-e686-4026-c9cc-39bf691729a7"
      },
      "execution_count": null,
      "outputs": [
        {
          "output_type": "stream",
          "name": "stdout",
          "text": [
            "torch.Size([200, 1])\n",
            "torch.Size([200, 1])\n"
          ]
        }
      ]
    },
    {
      "cell_type": "markdown",
      "source": [
        "## 5-2. 모델 정의 및 파라미터"
      ],
      "metadata": {
        "id": "gBjeixSUq_0a"
      }
    },
    {
      "cell_type": "code",
      "source": [
        "class LinearRegressionModel(nn.Module):\n",
        "  def __init__(self):\n",
        "    super(LinearRegressionModel, self).__init__()\n",
        "    self.linear = nn.Linear(1, 1,bias=True)      # in_features=1, out_features=1\n",
        "\n",
        "  def forward(self, x):\n",
        "    pred = self.linear(x)\n",
        "    return pred\n",
        "\n",
        "model = LinearRegressionModel()\n",
        "print(model)\n",
        "print(list(model.parameters()))"
      ],
      "metadata": {
        "colab": {
          "base_uri": "https://localhost:8080/"
        },
        "id": "5hw3dWo7rCsb",
        "outputId": "39a0615d-2757-40d0-a6a0-2f49d070c90a"
      },
      "execution_count": null,
      "outputs": [
        {
          "output_type": "stream",
          "name": "stdout",
          "text": [
            "LinearRegressionModel(\n",
            "  (linear): Linear(in_features=1, out_features=1, bias=True)\n",
            ")\n",
            "[Parameter containing:\n",
            "tensor([[0.2399]], requires_grad=True), Parameter containing:\n",
            "tensor([-0.1594], requires_grad=True)]\n"
          ]
        }
      ]
    },
    {
      "cell_type": "code",
      "source": [
        "# 학습 이전 x,y의 관계선을 그려보기\n",
        "w, b = model.parameters()\n",
        "\n",
        "w1, b1 = w[0][0].item(), b[0].item()\n",
        "\n",
        "x1 = np.array([-30, 30])\n",
        "y1 = w1 * x1 + b1\n",
        "\n",
        "plt.plot(x1, y1, 'r')\n",
        "plt.scatter(X, y)\n",
        "plt.grid()"
      ],
      "metadata": {
        "colab": {
          "base_uri": "https://localhost:8080/",
          "height": 430
        },
        "id": "bElZt5sC0drz",
        "outputId": "db54b954-6329-4058-abb0-5244d5e6d7af"
      },
      "execution_count": null,
      "outputs": [
        {
          "output_type": "display_data",
          "data": {
            "text/plain": [
              "<Figure size 640x480 with 1 Axes>"
            ],
            "image/png": "[encoded data removed]"
          },
          "metadata": {}
        }
      ]
    },
    {
      "cell_type": "markdown",
      "source": [
        "## 5-3. 손실함수 및 옵티마이저 선언과 학습"
      ],
      "metadata": {
        "id": "B7u8u77V2d6S"
      }
    },
    {
      "cell_type": "code",
      "source": [
        "import torch.optim as optim\n",
        "\n",
        "lossfunc = nn.MSELoss()\n",
        "optimizer = optim.SGD(model.parameters(), lr = 0.001)\n",
        "\n",
        "losses = []\n",
        "\n",
        "for epoch in range(100):\n",
        "  optimizer.zero_grad()      # 초기 gradient를 0으로 초기화\n",
        "\n",
        "  y_pred = model(X)\n",
        "  loss = lossfunc(y_pred, y)\n",
        "  losses.append(loss.item())\n",
        "  loss.backward()\n",
        "\n",
        "  optimizer.step()"
      ],
      "metadata": {
        "id": "YVHR2cut16Tg"
      },
      "execution_count": null,
      "outputs": []
    },
    {
      "cell_type": "code",
      "source": [
        "plt.plot(range(100), losses)\n",
        "plt.xlabel(\"epoch\")\n",
        "plt.ylabel('Loss')"
      ],
      "metadata": {
        "colab": {
          "base_uri": "https://localhost:8080/",
          "height": 467
        },
        "id": "IbHmKbXx3EXO",
        "outputId": "d8b54cf3-69ff-4536-fa43-88af6dd310db"
      },
      "execution_count": null,
      "outputs": [
        {
          "output_type": "execute_result",
          "data": {
            "text/plain": [
              "Text(0, 0.5, 'Loss')"
            ]
          },
          "metadata": {},
          "execution_count": 51
        },
        {
          "output_type": "display_data",
          "data": {
            "text/plain": [
              "<Figure size 640x480 with 1 Axes>"
            ],
            "image/png": "[encoded data removed]"
          },
          "metadata": {}
        }
      ]
    },
    {
      "cell_type": "code",
      "source": [
        "# 학습 이후 x,y 관계선을 그려보기\n",
        "w, b = model.parameters()\n",
        "\n",
        "w1, b1 = w[0][0].item(), b[0].item()\n",
        "\n",
        "x1 = np.array([-30, 30])\n",
        "y1 = w1 * x1 + b1\n",
        "\n",
        "plt.plot(x1, y1, 'r')\n",
        "plt.scatter(X, y)\n",
        "plt.grid()"
      ],
      "metadata": {
        "colab": {
          "base_uri": "https://localhost:8080/",
          "height": 430
        },
        "id": "7KKyij3w3bmd",
        "outputId": "0b78c2fd-4e40-4288-f547-56b50bade6c3"
      },
      "execution_count": null,
      "outputs": [
        {
          "output_type": "display_data",
          "data": {
            "text/plain": [
              "<Figure size 640x480 with 1 Axes>"
            ],
            "image/png": "[encoded data removed]"
          },
          "metadata": {}
        }
      ]
    },
    {
      "cell_type": "markdown",
      "source": [
        "# 6. 분류 모델(Classification Model) 실습"
      ],
      "metadata": {
        "id": "Vx1yniTEqON7"
      }
    },
    {
      "cell_type": "markdown",
      "source": [
        "## 6-1. 데이터 정의\n",
        "- Fashion MNIST 분류 모델"
      ],
      "metadata": {
        "id": "DsFB48nGrB94"
      }
    },
    {
      "cell_type": "code",
      "source": [
        "from torch.utils.data import Dataset, DataLoader\n",
        "import torchvision.transforms as transforms\n",
        "from torchvision import datasets\n",
        "\n",
        "device = torch.device('cuda' if torch.cuda.is_available() else 'cpu')\n",
        "device"
      ],
      "metadata": {
        "colab": {
          "base_uri": "https://localhost:8080/"
        },
        "id": "1NKl1L-FqSwN",
        "outputId": "b4622b73-9a37-4d64-ad29-f7520d2cd5df"
      },
      "execution_count": null,
      "outputs": [
        {
          "output_type": "execute_result",
          "data": {
            "text/plain": [
              "device(type='cuda')"
            ]
          },
          "metadata": {},
          "execution_count": 57
        }
      ]
    },
    {
      "cell_type": "code",
      "source": [
        "transform = transforms.Compose([transforms.ToTensor(),\n",
        "                               transforms.Normalize((0.5), (0.5))])"
      ],
      "metadata": {
        "id": "9eTgj2ya7Gwr"
      },
      "execution_count": null,
      "outputs": []
    },
    {
      "cell_type": "code",
      "source": [
        "trainset = datasets.FashionMNIST(root= '/content', train=True,\n",
        "                                 download=True, transform = transform)\n",
        "\n",
        "testset = datasets.FashionMNIST(root= '/content', train=False,\n",
        "                                 download=True, transform = transform)"
      ],
      "metadata": {
        "id": "Lwu5PyaW7QjH"
      },
      "execution_count": null,
      "outputs": []
    },
    {
      "cell_type": "code",
      "source": [
        "train_loader = DataLoader(trainset, batch_size=128, shuffle=True,\n",
        "                          num_workers=2)\n",
        "\n",
        "test_loader = DataLoader(testset, batch_size=128, shuffle=False,\n",
        "                          num_workers=2)"
      ],
      "metadata": {
        "id": "d-TjsD1m7uk0"
      },
      "execution_count": null,
      "outputs": []
    },
    {
      "cell_type": "code",
      "source": [
        "images, labels = next(iter(train_loader))\n",
        "images.shape, labels.shape"
      ],
      "metadata": {
        "colab": {
          "base_uri": "https://localhost:8080/"
        },
        "id": "PAR3SqKA8Hqf",
        "outputId": "036c30df-f2e8-4821-bb47-fb7cb9541434"
      },
      "execution_count": null,
      "outputs": [
        {
          "output_type": "execute_result",
          "data": {
            "text/plain": [
              "(torch.Size([128, 1, 28, 28]), torch.Size([128]))"
            ]
          },
          "metadata": {},
          "execution_count": 121
        }
      ]
    },
    {
      "cell_type": "code",
      "source": [
        "label = labels[0].item()\n",
        "plt.title(label)             # 레이블이 0~9로 설정되어 있기 때문에, label_map을 만들어주어야 함.\n",
        "plt.imshow(images[0].squeeze(), cmap='gray')\n"
      ],
      "metadata": {
        "colab": {
          "base_uri": "https://localhost:8080/",
          "height": 470
        },
        "id": "U9-1UbgY9Y2Z",
        "outputId": "19ef8017-279f-469f-d801-ec582ff912ce"
      },
      "execution_count": null,
      "outputs": [
        {
          "output_type": "execute_result",
          "data": {
            "text/plain": [
              "<matplotlib.image.AxesImage at 0x7e995eae8310>"
            ]
          },
          "metadata": {},
          "execution_count": 122
        },
        {
          "output_type": "display_data",
          "data": {
            "text/plain": [
              "<Figure size 640x480 with 1 Axes>"
            ],
            "image/png": "[encoded data removed]"
          },
          "metadata": {}
        }
      ]
    },
    {
      "cell_type": "code",
      "source": [
        "labels_map = {\n",
        "    0 : 'T-shirt',\n",
        "    1 : 'Trouser',\n",
        "    2 : 'Pullover',\n",
        "    3 : 'Dress',\n",
        "    4 : 'Coat',\n",
        "    5 : 'Sandal',\n",
        "    6 : 'Shirt',\n",
        "    7 : 'Sneaker',\n",
        "    8 : 'Bag',\n",
        "    9 : 'Ankle Boot'\n",
        "}\n",
        "\n",
        "figure = plt.figure(figsize=(12,12))\n",
        "for i in range(1, 17):\n",
        "  image = images[i].squeeze()\n",
        "  label_idx = labels[i].item()        # 값을 받아와서\n",
        "  label = labels_map[label_idx]       # 숫자를 한글 항목에 매핑 시켜준다.\n",
        "\n",
        "  figure.add_subplot(4, 4, i)\n",
        "  plt.title(label)\n",
        "  plt.axis('off')\n",
        "  plt.imshow(image, cmap='gray')"
      ],
      "metadata": {
        "colab": {
          "base_uri": "https://localhost:8080/",
          "height": 912
        },
        "id": "ENYuFCdE8Ui2",
        "outputId": "8a7218cc-b2d2-402f-e039-512215158496"
      },
      "execution_count": null,
      "outputs": [
        {
          "output_type": "display_data",
          "data": {
            "text/plain": [
              "<Figure size 1200x1200 with 16 Axes>"
            ],
            "image/png": "[encoded data removed]"
          },
          "metadata": {}
        }
      ]
    },
    {
      "cell_type": "markdown",
      "source": [
        "## 6-2. 모델 정의 및 파라미터 설정"
      ],
      "metadata": {
        "id": "iyfn5FKa-4Te"
      }
    },
    {
      "cell_type": "code",
      "source": [
        "class NeuralNet(nn.Module):\n",
        "  def __init__(self):\n",
        "    super(NeuralNet, self).__init__()\n",
        "\n",
        "    self.conv1 = nn.Conv2d(1, 6, 3)\n",
        "    self.conv2 = nn.Conv2d(6, 16, 3)\n",
        "    self.fc1 = nn.Linear(16 * 5 * 5, 120)\n",
        "    self.fc2 = nn.Linear(120, 84)\n",
        "    self.fc3 = nn.Linear(84, 10)           # 최종 레이블은 10개\n",
        "\n",
        "  def forward(self, x):\n",
        "    x = F.max_pool2d(F.relu(self.conv1(x)), (2,2))\n",
        "    x = F.max_pool2d(F.relu(self.conv2(x)), 2)\n",
        "    x = x.view(-1, self.num_flat_features(x))\n",
        "    x = F.relu(self.fc1(x))\n",
        "    x = F.relu(self.fc2(x))\n",
        "    x = self.fc3(x)\n",
        "    return x\n",
        "\n",
        "  def num_flat_features(self, x):\n",
        "    size = x.size()[1:]\n",
        "    num_features = 1\n",
        "    for s in size:\n",
        "      num_features *= s\n",
        "\n",
        "    return num_features\n",
        "\n",
        "model = NeuralNet()\n",
        "print(model)"
      ],
      "metadata": {
        "colab": {
          "base_uri": "https://localhost:8080/"
        },
        "id": "u78Klvdq-4hM",
        "outputId": "025a5500-703a-442c-a780-c06be4f3ec0a"
      },
      "execution_count": null,
      "outputs": [
        {
          "output_type": "stream",
          "name": "stdout",
          "text": [
            "NeuralNet(\n",
            "  (conv1): Conv2d(1, 6, kernel_size=(3, 3), stride=(1, 1))\n",
            "  (conv2): Conv2d(6, 16, kernel_size=(3, 3), stride=(1, 1))\n",
            "  (fc1): Linear(in_features=400, out_features=120, bias=True)\n",
            "  (fc2): Linear(in_features=120, out_features=84, bias=True)\n",
            "  (fc3): Linear(in_features=84, out_features=10, bias=True)\n",
            ")\n"
          ]
        }
      ]
    },
    {
      "cell_type": "code",
      "source": [
        "params = list(model.parameters())\n",
        "\n",
        "print(params[0].size())"
      ],
      "metadata": {
        "colab": {
          "base_uri": "https://localhost:8080/"
        },
        "id": "NBEXvyD6-4qi",
        "outputId": "bd39dbb5-e59d-4a60-a00d-e992467951cd"
      },
      "execution_count": null,
      "outputs": [
        {
          "output_type": "stream",
          "name": "stdout",
          "text": [
            "torch.Size([6, 1, 3, 3])\n"
          ]
        }
      ]
    },
    {
      "cell_type": "markdown",
      "source": [
        "## 6-3. 손실함수 및 옵티마이저 선언과 학습"
      ],
      "metadata": {
        "id": "i3iXTA3LEZze"
      }
    },
    {
      "cell_type": "code",
      "source": [
        "len(train_loader)"
      ],
      "metadata": {
        "colab": {
          "base_uri": "https://localhost:8080/"
        },
        "id": "i3pzinxdEzcG",
        "outputId": "116ce3d4-b652-42f0-cc91-52915ec18006"
      },
      "execution_count": null,
      "outputs": [
        {
          "output_type": "execute_result",
          "data": {
            "text/plain": [
              "469"
            ]
          },
          "metadata": {},
          "execution_count": 99
        }
      ]
    },
    {
      "cell_type": "code",
      "source": [
        "lossfunc = nn.CrossEntropyLoss()\n",
        "optimizer = optim.SGD(model.parameters(), lr = 0.001, momentum=0.9)\n",
        "\n",
        "for epoch in range(10):\n",
        "  running_loss = 0.0\n",
        "\n",
        "  for i, data in enumerate(train_loader,0):\n",
        "\n",
        "    inputs, labels = data\n",
        "\n",
        "    optimizer.zero_grad()\n",
        "\n",
        "    outputs = model(inputs)\n",
        "    loss = lossfunc(outputs, labels)\n",
        "    loss.backward()\n",
        "    optimizer.step()\n",
        "\n",
        "    running_loss += loss.item()\n",
        "\n",
        "    if i % 100 == 99:\n",
        "      print('Epoch : {}, iter:{}, Loss:{}'.format(epoch+1, i+1, running_loss/2000))\n",
        "      running_loss = 0.0"
      ],
      "metadata": {
        "colab": {
          "base_uri": "https://localhost:8080/"
        },
        "id": "mbl1I3NFEeiD",
        "outputId": "86b80b27-ea48-457f-8318-10664e10bd83"
      },
      "execution_count": null,
      "outputs": [
        {
          "output_type": "stream",
          "name": "stdout",
          "text": [
            "Epoch : 1, iter:100, Loss:0.10725131583213807\n",
            "Epoch : 1, iter:200, Loss:0.09122333526611329\n",
            "Epoch : 1, iter:300, Loss:0.06276001727581024\n",
            "Epoch : 1, iter:400, Loss:0.045019104599952696\n",
            "Epoch : 2, iter:100, Loss:0.03708364966511726\n",
            "Epoch : 2, iter:200, Loss:0.036491042345762253\n",
            "Epoch : 2, iter:300, Loss:0.034736865878105164\n",
            "Epoch : 2, iter:400, Loss:0.03408579337596893\n",
            "Epoch : 3, iter:100, Loss:0.03290929974615574\n",
            "Epoch : 3, iter:200, Loss:0.032671605929732325\n",
            "Epoch : 3, iter:300, Loss:0.03197591443359852\n",
            "Epoch : 3, iter:400, Loss:0.03054840862751007\n",
            "Epoch : 4, iter:100, Loss:0.030568186968564986\n",
            "Epoch : 4, iter:200, Loss:0.030155838280916215\n",
            "Epoch : 4, iter:300, Loss:0.028840967193245887\n",
            "Epoch : 4, iter:400, Loss:0.029123897522687913\n",
            "Epoch : 5, iter:100, Loss:0.02796696698665619\n",
            "Epoch : 5, iter:200, Loss:0.02821304552257061\n",
            "Epoch : 5, iter:300, Loss:0.028042546629905702\n",
            "Epoch : 5, iter:400, Loss:0.0271543393433094\n",
            "Epoch : 6, iter:100, Loss:0.02686048623919487\n",
            "Epoch : 6, iter:200, Loss:0.026903934970498086\n",
            "Epoch : 6, iter:300, Loss:0.025894635304808615\n",
            "Epoch : 6, iter:400, Loss:0.02568780080974102\n",
            "Epoch : 7, iter:100, Loss:0.024745902985334398\n",
            "Epoch : 7, iter:200, Loss:0.025367694914340974\n",
            "Epoch : 7, iter:300, Loss:0.024651507839560508\n",
            "Epoch : 7, iter:400, Loss:0.024648204654455184\n",
            "Epoch : 8, iter:100, Loss:0.02441000436246395\n",
            "Epoch : 8, iter:200, Loss:0.023498102307319642\n",
            "Epoch : 8, iter:300, Loss:0.024045539379119872\n",
            "Epoch : 8, iter:400, Loss:0.02332847325503826\n",
            "Epoch : 9, iter:100, Loss:0.023692956402897834\n",
            "Epoch : 9, iter:200, Loss:0.022225772827863692\n",
            "Epoch : 9, iter:300, Loss:0.02294794312119484\n",
            "Epoch : 9, iter:400, Loss:0.022931719318032263\n",
            "Epoch : 10, iter:100, Loss:0.021930888935923577\n",
            "Epoch : 10, iter:200, Loss:0.02153491900861263\n",
            "Epoch : 10, iter:300, Loss:0.022322084948420525\n",
            "Epoch : 10, iter:400, Loss:0.02163097520172596\n"
          ]
        }
      ]
    },
    {
      "cell_type": "markdown",
      "source": [
        "## 6-4. 모델 저장 및 로드\n",
        "\n",
        "- torch.save : model.state_dict()를 저장\n",
        "- torch.load : load_state_dict로 모델 로드"
      ],
      "metadata": {
        "id": "m03U8dIcGQCc"
      }
    },
    {
      "cell_type": "code",
      "source": [
        "PATH = '/content/fashion_mnist'\n",
        "torch.save(model.state_dict(), PATH)   # 저장\n",
        "\n",
        "# 로드\n",
        "model = NeuralNet()\n",
        "model.load_state_dict(torch.load(PATH))\n",
        "\n",
        "model.parameters"
      ],
      "metadata": {
        "id": "8JXuOZdSEez7"
      },
      "execution_count": null,
      "outputs": []
    },
    {
      "cell_type": "markdown",
      "source": [
        "## 6-5. 모델 평가"
      ],
      "metadata": {
        "id": "mpq_2xhEEfT5"
      }
    },
    {
      "cell_type": "code",
      "source": [
        "def imshow(image):\n",
        "  image = image / 2 + 0.5\n",
        "  np_img = image.numpy()\n",
        "\n",
        "  fig = plt.figure(figsize=(12, 8))\n",
        "\n",
        "  plt.imshow(np.transpose(np_img, (1,2,0)))\n",
        "  plt.show()\n",
        "\n",
        "images, labels = next(iter(test_loader))\n",
        "\n",
        "imshow(torchvision.utils.make_grid(images[:6]))"
      ],
      "metadata": {
        "colab": {
          "base_uri": "https://localhost:8080/",
          "height": 206
        },
        "id": "IPIZNpY_GvyE",
        "outputId": "8fce9704-6e05-411a-8c2b-18199b769acb"
      },
      "execution_count": null,
      "outputs": [
        {
          "output_type": "display_data",
          "data": {
            "text/plain": [
              "<Figure size 1200x800 with 1 Axes>"
            ],
            "image/png": "[encoded data removed]"
          },
          "metadata": {}
        }
      ]
    },
    {
      "cell_type": "code",
      "source": [
        "outputs = model(images)\n",
        "\n",
        "_, predicted = torch.max(outputs, 1)\n",
        "\n",
        "print(predicted[0:6])\n",
        "\n",
        "a = list(predicted[:6].numpy())\n",
        "a\n",
        "\n",
        "for i in a:\n",
        "  print(labels_map[i])"
      ],
      "metadata": {
        "colab": {
          "base_uri": "https://localhost:8080/"
        },
        "id": "uj9ZFbGgHy0Z",
        "outputId": "8f8ddb9f-5305-4c72-f690-03c0f5ef9054"
      },
      "execution_count": null,
      "outputs": [
        {
          "output_type": "stream",
          "name": "stdout",
          "text": [
            "tensor([9, 2, 1, 1, 6, 1])\n",
            "Ankle Boot\n",
            "Pullover\n",
            "Trouser\n",
            "Trouser\n",
            "Shirt\n",
            "Trouser\n"
          ]
        }
      ]
    }
  ]
}